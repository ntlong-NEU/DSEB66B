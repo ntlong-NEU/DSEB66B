{
 "cells": [
  {
   "cell_type": "markdown",
   "id": "38fbb415",
   "metadata": {},
   "source": [
    "## **Lecture 2.\tVariables and fundamental data types**"
   ]
  },
  {
   "cell_type": "code",
   "execution_count": 1,
   "id": "0e313a4c",
   "metadata": {},
   "outputs": [
    {
     "name": "stdout",
     "output_type": "stream",
     "text": [
      "Hello python\n"
     ]
    }
   ],
   "source": [
    "message = \"Hello python\"\n",
    "print(message)"
   ]
  },
  {
   "cell_type": "code",
   "execution_count": 2,
   "id": "cf84132e",
   "metadata": {},
   "outputs": [
    {
     "name": "stdout",
     "output_type": "stream",
     "text": [
      "Hello DSEB66B\n"
     ]
    }
   ],
   "source": [
    "print(\"Hello DSEB66B\")"
   ]
  },
  {
   "cell_type": "code",
   "execution_count": 3,
   "id": "b3eb5a43",
   "metadata": {},
   "outputs": [
    {
     "name": "stdout",
     "output_type": "stream",
     "text": [
      "x: 10 y: 10\n"
     ]
    }
   ],
   "source": [
    "x = 10\n",
    "y = x \n",
    "print(\"x:\", x, \"y:\", y )"
   ]
  },
  {
   "cell_type": "markdown",
   "id": "1e64cef2",
   "metadata": {},
   "source": [
    "**2-1. Simple Message:** Assign a message to a variable, and then print that\n",
    "message.\n"
   ]
  },
  {
   "cell_type": "code",
   "execution_count": 4,
   "id": "2f66ab3a",
   "metadata": {},
   "outputs": [
    {
     "name": "stdout",
     "output_type": "stream",
     "text": [
      "Variables are labels that refer to values.\n"
     ]
    }
   ],
   "source": [
    "message1 = \"Variables are labels that refer to values.\"\n",
    "print(message1)"
   ]
  },
  {
   "cell_type": "markdown",
   "id": "937a1cdf",
   "metadata": {},
   "source": [
    "**2-2. Simple Messages:** Assign a message to a variable, and print that message.\n",
    "Then change the value of the variable to a new message, and print the new\n",
    "message."
   ]
  },
  {
   "cell_type": "code",
   "execution_count": 5,
   "id": "2a8f2817",
   "metadata": {},
   "outputs": [
    {
     "name": "stdout",
     "output_type": "stream",
     "text": [
      "Variables are boxes that hold values.\n"
     ]
    }
   ],
   "source": [
    "mess = \"Variables are boxes that hold values.\"\n",
    "print(mess)"
   ]
  },
  {
   "cell_type": "code",
   "execution_count": 6,
   "id": "46d2bc72",
   "metadata": {},
   "outputs": [
    {
     "name": "stdout",
     "output_type": "stream",
     "text": [
      "Better, varialbes are labels that refer to values.\n"
     ]
    }
   ],
   "source": [
    "mess = \"Better, varialbes are labels that refer to values.\"\n",
    "print(mess )"
   ]
  },
  {
   "cell_type": "code",
   "execution_count": 9,
   "id": "6e400f03",
   "metadata": {},
   "outputs": [
    {
     "name": "stdout",
     "output_type": "stream",
     "text": [
      "I told my friend:\"Python is my favorite programming language.\"\n"
     ]
    }
   ],
   "source": [
    "mes = 'I told my friend:\"Python is my favorite programming language.\"' \n",
    "print(mes)"
   ]
  },
  {
   "cell_type": "code",
   "execution_count": 10,
   "id": "19f5f557",
   "metadata": {},
   "outputs": [
    {
     "name": "stdout",
     "output_type": "stream",
     "text": [
      "Machine learning (ML) is a field of artificial intelligence (AI) that enables computers to learn from data without being explicitly programmed. Instead of following pre-defined instructions, ML algorithms analyze data to identify patterns, make predictions, and improve their performance over time as they are exposed to more data. \n"
     ]
    }
   ],
   "source": [
    "mes1 = \"Machine learning (ML) is a field of artificial \" \\\n",
    "\"intelligence (AI) that enables computers\" \\\n",
    "\" to learn from data without being explicitly programmed. Instead of following pre-defined instructions, \" \\\n",
    "\"ML algorithms analyze data to identify patterns, \" \\\n",
    "\"make predictions, and improve their performance over time as they are exposed to more data. \"\n",
    "print(mes1)"
   ]
  },
  {
   "cell_type": "code",
   "execution_count": 11,
   "id": "baa19396",
   "metadata": {},
   "outputs": [
    {
     "name": "stdout",
     "output_type": "stream",
     "text": [
      "The Zen of Python, by Tim Peters\n",
      "\n",
      "Beautiful is better than ugly.\n",
      "Explicit is better than implicit.\n",
      "Simple is better than complex.\n",
      "Complex is better than complicated.\n",
      "Flat is better than nested.\n",
      "Sparse is better than dense.\n",
      "Readability counts.\n",
      "Special cases aren't special enough to break the rules.\n",
      "Although practicality beats purity.\n",
      "Errors should never pass silently.\n",
      "Unless explicitly silenced.\n",
      "In the face of ambiguity, refuse the temptation to guess.\n",
      "There should be one-- and preferably only one --obvious way to do it.\n",
      "Although that way may not be obvious at first unless you're Dutch.\n",
      "Now is better than never.\n",
      "Although never is often better than *right* now.\n",
      "If the implementation is hard to explain, it's a bad idea.\n",
      "If the implementation is easy to explain, it may be a good idea.\n",
      "Namespaces are one honking great idea -- let's do more of those!\n"
     ]
    }
   ],
   "source": [
    "import this "
   ]
  },
  {
   "cell_type": "code",
   "execution_count": 13,
   "id": "5d664154",
   "metadata": {},
   "outputs": [
    {
     "name": "stdout",
     "output_type": "stream",
     "text": [
      "Beautiful is better than ugly.\n",
      "Explicit is better than implicit.\n",
      "Simple is better than complex.\n",
      "Complex is better than complicated.\n",
      "Flat is better than nested.\n",
      "Sparse is better than dense.\n",
      "Readability counts.\n",
      "Special cases aren't special enough to break the rules.\n",
      "Although practicality beats purity.\n",
      "Errors should never pass silently.\n",
      "Unless explicitly silenced.\n"
     ]
    }
   ],
   "source": [
    "zen = \"\"\"Beautiful is better than ugly.\n",
    "Explicit is better than implicit.\n",
    "Simple is better than complex.\n",
    "Complex is better than complicated.\n",
    "Flat is better than nested.\n",
    "Sparse is better than dense.\n",
    "Readability counts.\n",
    "Special cases aren't special enough to break the rules.\n",
    "Although practicality beats purity.\n",
    "Errors should never pass silently.\n",
    "Unless explicitly silenced.\"\"\"\n",
    "print(zen)"
   ]
  },
  {
   "cell_type": "code",
   "execution_count": 14,
   "id": "7357b580",
   "metadata": {},
   "outputs": [
    {
     "name": "stdout",
     "output_type": "stream",
     "text": [
      "Long Nguyen\n"
     ]
    }
   ],
   "source": [
    "first_name = \"Long\"\n",
    "last_name = \"Nguyen\"\n",
    "full_name = f\"{first_name} {last_name}\"\n",
    "print(full_name)"
   ]
  },
  {
   "cell_type": "code",
   "execution_count": 16,
   "id": "e0bbbc3f",
   "metadata": {},
   "outputs": [
    {
     "name": "stdout",
     "output_type": "stream",
     "text": [
      "Hello, LONG NGUYEN!\n"
     ]
    }
   ],
   "source": [
    "print(\"Hello, {}!\".format(full_name.upper()))"
   ]
  },
  {
   "cell_type": "code",
   "execution_count": 17,
   "id": "348c48b3",
   "metadata": {},
   "outputs": [
    {
     "name": "stdout",
     "output_type": "stream",
     "text": [
      "Hello! Long Nguyen!\n"
     ]
    }
   ],
   "source": [
    "print(\"Hello! {} {}!\".format(first_name, last_name))"
   ]
  },
  {
   "cell_type": "code",
   "execution_count": 20,
   "id": "d6c84368",
   "metadata": {},
   "outputs": [],
   "source": [
    "mes2 = \"  Python is a great programming language.  \""
   ]
  },
  {
   "cell_type": "code",
   "execution_count": 21,
   "id": "276e04e4",
   "metadata": {},
   "outputs": [
    {
     "data": {
      "text/plain": [
       "['__add__',\n",
       " '__class__',\n",
       " '__contains__',\n",
       " '__delattr__',\n",
       " '__dir__',\n",
       " '__doc__',\n",
       " '__eq__',\n",
       " '__format__',\n",
       " '__ge__',\n",
       " '__getattribute__',\n",
       " '__getitem__',\n",
       " '__getnewargs__',\n",
       " '__getstate__',\n",
       " '__gt__',\n",
       " '__hash__',\n",
       " '__init__',\n",
       " '__init_subclass__',\n",
       " '__iter__',\n",
       " '__le__',\n",
       " '__len__',\n",
       " '__lt__',\n",
       " '__mod__',\n",
       " '__mul__',\n",
       " '__ne__',\n",
       " '__new__',\n",
       " '__reduce__',\n",
       " '__reduce_ex__',\n",
       " '__repr__',\n",
       " '__rmod__',\n",
       " '__rmul__',\n",
       " '__setattr__',\n",
       " '__sizeof__',\n",
       " '__str__',\n",
       " '__subclasshook__',\n",
       " 'capitalize',\n",
       " 'casefold',\n",
       " 'center',\n",
       " 'count',\n",
       " 'encode',\n",
       " 'endswith',\n",
       " 'expandtabs',\n",
       " 'find',\n",
       " 'format',\n",
       " 'format_map',\n",
       " 'index',\n",
       " 'isalnum',\n",
       " 'isalpha',\n",
       " 'isascii',\n",
       " 'isdecimal',\n",
       " 'isdigit',\n",
       " 'isidentifier',\n",
       " 'islower',\n",
       " 'isnumeric',\n",
       " 'isprintable',\n",
       " 'isspace',\n",
       " 'istitle',\n",
       " 'isupper',\n",
       " 'join',\n",
       " 'ljust',\n",
       " 'lower',\n",
       " 'lstrip',\n",
       " 'maketrans',\n",
       " 'partition',\n",
       " 'removeprefix',\n",
       " 'removesuffix',\n",
       " 'replace',\n",
       " 'rfind',\n",
       " 'rindex',\n",
       " 'rjust',\n",
       " 'rpartition',\n",
       " 'rsplit',\n",
       " 'rstrip',\n",
       " 'split',\n",
       " 'splitlines',\n",
       " 'startswith',\n",
       " 'strip',\n",
       " 'swapcase',\n",
       " 'title',\n",
       " 'translate',\n",
       " 'upper',\n",
       " 'zfill']"
      ]
     },
     "execution_count": 21,
     "metadata": {},
     "output_type": "execute_result"
    }
   ],
   "source": [
    "dir(mes2)"
   ]
  },
  {
   "cell_type": "code",
   "execution_count": 23,
   "id": "c7a4504d",
   "metadata": {},
   "outputs": [
    {
     "data": {
      "text/plain": [
       "False"
      ]
     },
     "execution_count": 23,
     "metadata": {},
     "output_type": "execute_result"
    }
   ],
   "source": [
    "'e'.isnumeric()"
   ]
  },
  {
   "cell_type": "code",
   "execution_count": 24,
   "id": "40615ff0",
   "metadata": {},
   "outputs": [
    {
     "data": {
      "text/plain": [
       "'  Java is a great programming language.  '"
      ]
     },
     "execution_count": 24,
     "metadata": {},
     "output_type": "execute_result"
    }
   ],
   "source": [
    "mes2.replace(\"Python\", \"Java\")"
   ]
  },
  {
   "cell_type": "code",
   "execution_count": 25,
   "id": "3f55362d",
   "metadata": {},
   "outputs": [
    {
     "name": "stdout",
     "output_type": "stream",
     "text": [
      "  Python is a great programming language.  \n"
     ]
    }
   ],
   "source": [
    "print(mes2)"
   ]
  },
  {
   "cell_type": "markdown",
   "id": "72829c54",
   "metadata": {},
   "source": [
    "**2-3. Personal Message:** Use a variable to represent a person’s name, and print\n",
    "a message to that person. Your message should be simple, such as, “Hello Eric,\n",
    "would you like to learn some Python today?”\n"
   ]
  },
  {
   "cell_type": "code",
   "execution_count": 27,
   "id": "e374dc43",
   "metadata": {},
   "outputs": [
    {
     "name": "stdout",
     "output_type": "stream",
     "text": [
      "Hello Eric,would you like to learn some Python today?\n"
     ]
    }
   ],
   "source": [
    "first_name1 = \"Eric\"\n",
    "print(\"Hello {},would you like to learn some Python today?\".format(first_name1))"
   ]
  },
  {
   "cell_type": "markdown",
   "id": "4b1f989b",
   "metadata": {},
   "source": [
    "**2-4. Name Cases:** Use a variable to represent a person’s name, and then print\n",
    "that person’s name in lowercase, uppercase, and title case.\n"
   ]
  },
  {
   "cell_type": "code",
   "execution_count": 30,
   "id": "73f66837",
   "metadata": {},
   "outputs": [
    {
     "name": "stdout",
     "output_type": "stream",
     "text": [
      "eric\n",
      "ERIC\n",
      "Eric\n"
     ]
    }
   ],
   "source": [
    "print(first_name1.lower())\n",
    "print(first_name1.upper())\n",
    "print(first_name1.title())"
   ]
  },
  {
   "cell_type": "markdown",
   "id": "1367661b",
   "metadata": {},
   "source": [
    "**2-5. Famous Quote:** Find a quote from a famous person you admire. Print the\n",
    "quote and the name of its author. Your output should look something like the\n",
    "following, including the quotation marks:\n",
    "Albert Einstein once said, “A person who never made a\n",
    "mistake never tried anything new.”\n"
   ]
  },
  {
   "cell_type": "code",
   "execution_count": null,
   "id": "e3576444",
   "metadata": {},
   "outputs": [],
   "source": []
  },
  {
   "cell_type": "markdown",
   "id": "df30dc52",
   "metadata": {},
   "source": [
    "**2-6. Famous Quote 2:** Repeat Exercise 2-5, but this time, represent the\n",
    "famous person’s name using a variable called famous_person. Then compose\n",
    "your message and represent it with a new variable called message. Print your\n",
    "message.\n"
   ]
  },
  {
   "cell_type": "code",
   "execution_count": null,
   "id": "336a1244",
   "metadata": {},
   "outputs": [],
   "source": []
  },
  {
   "cell_type": "markdown",
   "id": "52710a8c",
   "metadata": {},
   "source": [
    "**2-7. Stripping Names:** Use a variable to represent a person’s name, and include\n",
    "some whitespace characters at the beginning and end of the name. Make sure\n",
    "you use each character combination, \"\\t\" and \"\\n\", at least once.\n",
    "Print the name once, so the whitespace around the name is displayed.\n",
    "Then print the name using each of the three stripping functions, lstrip(),\n",
    "rstrip(), and strip()."
   ]
  }
 ],
 "metadata": {
  "kernelspec": {
   "display_name": "env-teaching",
   "language": "python",
   "name": "python3"
  },
  "language_info": {
   "codemirror_mode": {
    "name": "ipython",
    "version": 3
   },
   "file_extension": ".py",
   "mimetype": "text/x-python",
   "name": "python",
   "nbconvert_exporter": "python",
   "pygments_lexer": "ipython3",
   "version": "3.11.7"
  }
 },
 "nbformat": 4,
 "nbformat_minor": 5
}
