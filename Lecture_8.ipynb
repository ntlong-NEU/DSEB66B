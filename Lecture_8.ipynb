{
 "cells": [
  {
   "cell_type": "markdown",
   "id": "8280f627",
   "metadata": {},
   "source": [
    "## Lecture 8: Regular Expression (RegEx)"
   ]
  },
  {
   "cell_type": "markdown",
   "id": "db3a976a",
   "metadata": {},
   "source": [
    "**Ex:** Split a paragraph of text into smaller paragraphs less than `max_char = 61` characters in size and rejoin paragraphs by \"\\n\\n\". Note: The cutting point should be at the end of the sentence, except if not possible, leave it in the space position.\n",
    "\n",
    "+ Input: \"ChatGPT is    an AI assistant.\\n\\n It understands natural language.\\n\\n It helps answer    questions fast.\\n\\n It can assist with writing \\n\\ntasks.\\n\\n ChatGPT learns    from vast data.\\n\\nIt adapts to    user needs well.\\n\\n This AI     is by OpenAI's team.\\n\\n It's built to aid     and inform.\\n\\n Ask ChatGPT anything today!“\n",
    "+ Output: \"ChatGPT is an AI assistant. It understands natural language.\\n\\n It helps answer questions fast.\\n\\n It can assist with writing tasks.\\n\\n ChatGPT learns from vast data.It adapts to user needs well.\\n\\n This AI is by OpenAI's team. It's built to aid and inform.\\n\\n Ask ChatGPT anything today!“"
   ]
  },
  {
   "cell_type": "code",
   "execution_count": 1,
   "id": "7bb7ed42",
   "metadata": {},
   "outputs": [],
   "source": [
    " text_in =\"ChatGPT is    an AI assistant.\\n\\n It understands natural language.\\n\\n It helps answer    questions fast.\\n\\n It can assist with writing \\n\\ntasks.\\n\\n ChatGPT learns    from vast data.\\n\\nIt adapts to    user needs well.\\n\\n This AI     is by OpenAI's team.\\n\\n It's built to aid     and inform.\\n\\n Ask ChatGPT anything today!\""
   ]
  },
  {
   "cell_type": "code",
   "execution_count": 2,
   "id": "60334f26",
   "metadata": {},
   "outputs": [
    {
     "name": "stdout",
     "output_type": "stream",
     "text": [
      "ChatGPT is    an AI assistant.\n",
      "\n",
      " It understands natural language.\n",
      "\n",
      " It helps answer    questions fast.\n",
      "\n",
      " It can assist with writing \n",
      "\n",
      "tasks.\n",
      "\n",
      " ChatGPT learns    from vast data.\n",
      "\n",
      "It adapts to    user needs well.\n",
      "\n",
      " This AI     is by OpenAI's team.\n",
      "\n",
      " It's built to aid     and inform.\n",
      "\n",
      " Ask ChatGPT anything today!\n"
     ]
    }
   ],
   "source": [
    "print(text_in)"
   ]
  },
  {
   "cell_type": "code",
   "execution_count": 3,
   "id": "6a4aeb63",
   "metadata": {},
   "outputs": [
    {
     "name": "stdout",
     "output_type": "stream",
     "text": [
      "ChatGPT is an AI assistant. It understands natural language. It helps answer questions fast. It can assist with writing tasks. ChatGPT learns from vast data. It adapts to user needs well. This AI is by OpenAI's team. It's built to aid and inform. Ask ChatGPT anything today!\n"
     ]
    }
   ],
   "source": [
    "#normalization\n",
    "while '\\n' in text_in:\n",
    "    text_in = text_in.replace('\\n',' ')\n",
    "while '  ' in text_in:\n",
    "    text_in = text_in.replace('  ',' ')\n",
    "print(text_in)"
   ]
  },
  {
   "cell_type": "code",
   "execution_count": 5,
   "id": "0d0e91de",
   "metadata": {},
   "outputs": [
    {
     "data": {
      "text/plain": [
       "[26, 59, 91, 125, 156, 186, 215, 245, 273]"
      ]
     },
     "execution_count": 5,
     "metadata": {},
     "output_type": "execute_result"
    }
   ],
   "source": [
    "end_points = [i for i in range(len(text_in)) if text_in[i] in {'.','!'}]\n",
    "end_points"
   ]
  },
  {
   "cell_type": "code",
   "execution_count": 6,
   "id": "d39b76b0",
   "metadata": {},
   "outputs": [
    {
     "data": {
      "text/plain": [
       "274"
      ]
     },
     "execution_count": 6,
     "metadata": {},
     "output_type": "execute_result"
    }
   ],
   "source": [
    "len(text_in)"
   ]
  },
  {
   "cell_type": "code",
   "execution_count": 35,
   "id": "7fbbbc93",
   "metadata": {},
   "outputs": [
    {
     "name": "stdout",
     "output_type": "stream",
     "text": [
      "[(0, 91), (91, 156), (156, 245), (245, 274)]\n"
     ]
    }
   ],
   "source": [
    "max_char = 61\n",
    "cut_points = []\n",
    "start = 0\n",
    "\n",
    "for end in end_points:\n",
    "    if end - start > max_char:\n",
    "        cut_points.append((start, end))\n",
    "        start = end\n",
    "\n",
    "# Đảm bảo thêm đoạn cuối cùng nếu chưa được thêm\n",
    "if start < len(text_in):\n",
    "    cut_points.append((start, len(text_in)))\n",
    "\n",
    "print(cut_points)"
   ]
  },
  {
   "cell_type": "code",
   "execution_count": 36,
   "id": "9e1c9054",
   "metadata": {},
   "outputs": [
    {
     "data": {
      "text/plain": [
       "['a']"
      ]
     },
     "execution_count": 36,
     "metadata": {},
     "output_type": "execute_result"
    }
   ],
   "source": [
    "import re\n",
    "re.findall('[a,b,c]','a')"
   ]
  },
  {
   "cell_type": "code",
   "execution_count": 37,
   "id": "3f3bdc9a",
   "metadata": {},
   "outputs": [
    {
     "data": {
      "text/plain": [
       "['a', 'c']"
      ]
     },
     "execution_count": 37,
     "metadata": {},
     "output_type": "execute_result"
    }
   ],
   "source": [
    "re.findall('[abc]','ac')"
   ]
  },
  {
   "cell_type": "code",
   "execution_count": 38,
   "id": "0b42f34f",
   "metadata": {},
   "outputs": [
    {
     "data": {
      "text/plain": [
       "[]"
      ]
     },
     "execution_count": 38,
     "metadata": {},
     "output_type": "execute_result"
    }
   ],
   "source": [
    "re.findall('[abc]','Hello python')"
   ]
  },
  {
   "cell_type": "code",
   "execution_count": 39,
   "id": "e9ae7bee",
   "metadata": {},
   "outputs": [
    {
     "data": {
      "text/plain": [
       "['e', 'l', 'l', 'h', 'n']"
      ]
     },
     "execution_count": 39,
     "metadata": {},
     "output_type": "execute_result"
    }
   ],
   "source": [
    "re.findall('[a-n]','Hello python')"
   ]
  },
  {
   "cell_type": "code",
   "execution_count": 40,
   "id": "6c804867",
   "metadata": {},
   "outputs": [
    {
     "data": {
      "text/plain": [
       "['H', 'o', ' ', 'p', 'y', 't', 'o']"
      ]
     },
     "execution_count": 40,
     "metadata": {},
     "output_type": "execute_result"
    }
   ],
   "source": [
    "re.findall('[^a-n]','Hello python')"
   ]
  },
  {
   "cell_type": "code",
   "execution_count": 41,
   "id": "3d9e1b25",
   "metadata": {},
   "outputs": [
    {
     "name": "stdout",
     "output_type": "stream",
     "text": [
      "6.62 μs ± 2.14 μs per loop (mean ± std. dev. of 7 runs, 100,000 loops each)\n"
     ]
    }
   ],
   "source": [
    "%timeit re.findall(\"[.!]\",text_in)"
   ]
  },
  {
   "cell_type": "code",
   "execution_count": 42,
   "id": "37fec738",
   "metadata": {},
   "outputs": [
    {
     "data": {
      "text/plain": [
       "[]"
      ]
     },
     "execution_count": 42,
     "metadata": {},
     "output_type": "execute_result"
    }
   ],
   "source": [
    "re.findall('[^ab]','a')"
   ]
  },
  {
   "cell_type": "code",
   "execution_count": 43,
   "id": "7512aec2",
   "metadata": {},
   "outputs": [
    {
     "data": {
      "text/plain": [
       "['c']"
      ]
     },
     "execution_count": 43,
     "metadata": {},
     "output_type": "execute_result"
    }
   ],
   "source": [
    "re.findall('[^ab]','ac')"
   ]
  },
  {
   "cell_type": "code",
   "execution_count": 44,
   "id": "48ed398b",
   "metadata": {},
   "outputs": [
    {
     "data": {
      "text/plain": [
       "['+']"
      ]
     },
     "execution_count": 44,
     "metadata": {},
     "output_type": "execute_result"
    }
   ],
   "source": [
    "re.findall('[+]','ac+')"
   ]
  },
  {
   "cell_type": "code",
   "execution_count": 45,
   "id": "a45cd926",
   "metadata": {},
   "outputs": [
    {
     "data": {
      "text/plain": [
       "['ac']"
      ]
     },
     "execution_count": 45,
     "metadata": {},
     "output_type": "execute_result"
    }
   ],
   "source": [
    "re.findall('\\w+','ac')"
   ]
  },
  {
   "cell_type": "code",
   "execution_count": 46,
   "id": "0fe51366",
   "metadata": {},
   "outputs": [
    {
     "data": {
      "text/plain": [
       "[]"
      ]
     },
     "execution_count": 46,
     "metadata": {},
     "output_type": "execute_result"
    }
   ],
   "source": [
    "re.findall('..','a')"
   ]
  },
  {
   "cell_type": "code",
   "execution_count": 47,
   "id": "bc371cd7",
   "metadata": {},
   "outputs": [
    {
     "data": {
      "text/plain": [
       "['ab']"
      ]
     },
     "execution_count": 47,
     "metadata": {},
     "output_type": "execute_result"
    }
   ],
   "source": [
    "re.findall('..','abc')"
   ]
  },
  {
   "cell_type": "code",
   "execution_count": 48,
   "id": "e93af4bb",
   "metadata": {},
   "outputs": [
    {
     "data": {
      "text/plain": [
       "['ab', 'cd']"
      ]
     },
     "execution_count": 48,
     "metadata": {},
     "output_type": "execute_result"
    }
   ],
   "source": [
    "re.findall('..','abcds')"
   ]
  },
  {
   "cell_type": "code",
   "execution_count": 49,
   "id": "47c4d448",
   "metadata": {},
   "outputs": [
    {
     "data": {
      "text/plain": [
       "['a']"
      ]
     },
     "execution_count": 49,
     "metadata": {},
     "output_type": "execute_result"
    }
   ],
   "source": [
    "re.findall('^a','a')"
   ]
  },
  {
   "cell_type": "code",
   "execution_count": 50,
   "id": "cbfa2a12",
   "metadata": {},
   "outputs": [
    {
     "data": {
      "text/plain": [
       "['a']"
      ]
     },
     "execution_count": 50,
     "metadata": {},
     "output_type": "execute_result"
    }
   ],
   "source": [
    "re.findall('^a','abcsa')"
   ]
  },
  {
   "cell_type": "code",
   "execution_count": 51,
   "id": "043e0f79",
   "metadata": {},
   "outputs": [
    {
     "data": {
      "text/plain": [
       "[]"
      ]
     },
     "execution_count": 51,
     "metadata": {},
     "output_type": "execute_result"
    }
   ],
   "source": [
    "re.findall('^a','baa')"
   ]
  },
  {
   "cell_type": "code",
   "execution_count": 52,
   "id": "1062e7c0",
   "metadata": {},
   "outputs": [
    {
     "data": {
      "text/plain": [
       "['ce', 'caae', 'caaaaae', 'ce']"
      ]
     },
     "execution_count": 52,
     "metadata": {},
     "output_type": "execute_result"
    }
   ],
   "source": [
    "re.findall('ca*e','ce caae aac cccaaaaae ccceee')"
   ]
  },
  {
   "cell_type": "code",
   "execution_count": 53,
   "id": "acb5cda3",
   "metadata": {},
   "outputs": [
    {
     "data": {
      "text/plain": [
       "['caac', 'cc']"
      ]
     },
     "execution_count": 53,
     "metadata": {},
     "output_type": "execute_result"
    }
   ],
   "source": [
    "re.findall('ca*c','ce caacac ccac')"
   ]
  },
  {
   "cell_type": "code",
   "execution_count": 54,
   "id": "aac10511",
   "metadata": {},
   "outputs": [
    {
     "data": {
      "text/plain": [
       "['aa', 'aa', 'aaaa', 'aaaaaa', 'aaa']"
      ]
     },
     "execution_count": 54,
     "metadata": {},
     "output_type": "execute_result"
    }
   ],
   "source": [
    "re.findall('a{2,6}','cae caae aac cccaaaae cccaaaaaaaaaeee')"
   ]
  },
  {
   "cell_type": "code",
   "execution_count": 55,
   "id": "6f8d0c7f",
   "metadata": {},
   "outputs": [
    {
     "data": {
      "text/plain": [
       "['12', '1231', '23', '8378', '78']"
      ]
     },
     "execution_count": 55,
     "metadata": {},
     "output_type": "execute_result"
    }
   ],
   "source": [
    "re.findall('[0-9]{2,4}','12 123123 ad837878c cccaaaaae ccceee')"
   ]
  },
  {
   "cell_type": "code",
   "execution_count": 56,
   "id": "c062e0c0",
   "metadata": {},
   "outputs": [],
   "source": [
    "path = 'D:\\CODE\\Python4DS\\DSEB66B\\Data\\Example_Regex.txt'\n",
    "path_relative = r\"Data\\Example_Regex.txt\""
   ]
  },
  {
   "cell_type": "code",
   "execution_count": 57,
   "id": "2df3f60a",
   "metadata": {},
   "outputs": [
    {
     "name": "stdout",
     "output_type": "stream",
     "text": [
      "Phòng - Ban Khoa - Bộ môn Trung tâm Trường PTTH Tràng An Tổ chức đoàn thể Đào tạo Thống kê Thư viện \n"
     ]
    }
   ],
   "source": [
    "with open(path_relative, encoding='utf16') as file:\n",
    "    content = file.read()\n",
    "print(content[:100])"
   ]
  },
  {
   "cell_type": "code",
   "execution_count": 58,
   "id": "b3d395d8",
   "metadata": {},
   "outputs": [
    {
     "data": {
      "text/plain": [
       "['0938432640', '0936331567']"
      ]
     },
     "execution_count": 58,
     "metadata": {},
     "output_type": "execute_result"
    }
   ],
   "source": [
    "re.findall(\"[0-9]{9,11}\",content)"
   ]
  },
  {
   "cell_type": "code",
   "execution_count": 59,
   "id": "7a856aaa",
   "metadata": {},
   "outputs": [
    {
     "data": {
      "text/plain": [
       "['02293 892 240', '02293 892 241', '02293 892 701', '02293.892.895']"
      ]
     },
     "execution_count": 59,
     "metadata": {},
     "output_type": "execute_result"
    }
   ],
   "source": [
    "re.findall(\"[0-9]{5}[. ][0-9]{3}[. ][0-9]{3}\",content)"
   ]
  },
  {
   "cell_type": "code",
   "execution_count": 60,
   "id": "bff298df",
   "metadata": {},
   "outputs": [
    {
     "data": {
      "text/plain": [
       "['a', 'a', 'a', 'b', 'a', 'b']"
      ]
     },
     "execution_count": 60,
     "metadata": {},
     "output_type": "execute_result"
    }
   ],
   "source": [
    "re.findall('a|b','sa acab sfadfsfb')"
   ]
  },
  {
   "cell_type": "code",
   "execution_count": 61,
   "id": "6e7040b5",
   "metadata": {},
   "outputs": [
    {
     "data": {
      "text/plain": [
       "['a', 'a', 'a', 'b', 'a', 'b']"
      ]
     },
     "execution_count": 61,
     "metadata": {},
     "output_type": "execute_result"
    }
   ],
   "source": [
    "re.findall('[ab]','sa acab sfadfsfb')"
   ]
  },
  {
   "cell_type": "code",
   "execution_count": 62,
   "id": "0e826cfd",
   "metadata": {},
   "outputs": [
    {
     "data": {
      "text/plain": [
       "['a', 'a', 'b', 'a']"
      ]
     },
     "execution_count": 62,
     "metadata": {},
     "output_type": "execute_result"
    }
   ],
   "source": [
    "re.findall('(a|b)s','sas ascabs sfasdfsfb')"
   ]
  },
  {
   "cell_type": "code",
   "execution_count": null,
   "id": "972271fa",
   "metadata": {},
   "outputs": [
    {
     "data": {
      "text/plain": [
       "['b', 'c', 'a']"
      ]
     },
     "execution_count": 63,
     "metadata": {},
     "output_type": "execute_result"
    }
   ],
   "source": [
    "re.findall(r'(a|b|c)xy','bxy cxy dxy axyx')"
   ]
  },
  {
   "cell_type": "code",
   "execution_count": 64,
   "id": "6af993ef",
   "metadata": {},
   "outputs": [
    {
     "data": {
      "text/plain": [
       "['bxy', 'cxy', 'dxy', 'axy', '.xy']"
      ]
     },
     "execution_count": 64,
     "metadata": {},
     "output_type": "execute_result"
    }
   ],
   "source": [
    "re.findall('.xy','bxy cxy dxy axy.xy')"
   ]
  },
  {
   "cell_type": "code",
   "execution_count": 66,
   "id": "8d191064",
   "metadata": {},
   "outputs": [
    {
     "data": {
      "text/plain": [
       "['.xy']"
      ]
     },
     "execution_count": 66,
     "metadata": {},
     "output_type": "execute_result"
    }
   ],
   "source": [
    "re.findall('\\.xy','bxy cxy dxy axy.xy')"
   ]
  },
  {
   "cell_type": "code",
   "execution_count": null,
   "id": "4d970437",
   "metadata": {},
   "outputs": [],
   "source": []
  }
 ],
 "metadata": {
  "kernelspec": {
   "display_name": "env-teaching",
   "language": "python",
   "name": "python3"
  },
  "language_info": {
   "codemirror_mode": {
    "name": "ipython",
    "version": 3
   },
   "file_extension": ".py",
   "mimetype": "text/x-python",
   "name": "python",
   "nbconvert_exporter": "python",
   "pygments_lexer": "ipython3",
   "version": "3.11.7"
  }
 },
 "nbformat": 4,
 "nbformat_minor": 5
}
