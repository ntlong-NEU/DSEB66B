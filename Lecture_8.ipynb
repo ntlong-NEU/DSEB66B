{
 "cells": [
  {
   "cell_type": "markdown",
   "id": "8280f627",
   "metadata": {},
   "source": [
    "## Lecture 8: Regular Expression (RegEx)"
   ]
  },
  {
   "cell_type": "markdown",
   "id": "db3a976a",
   "metadata": {},
   "source": [
    "**Ex:** Split a paragraph of text into smaller paragraphs less than `number_char = 61` characters in size and rejoin paragraphs by \"\\n\\n\". Note: The cutting point should be at the end of the sentence, except if not possible, leave it in the space position.\n",
    "\n",
    "+ Input: \"ChatGPT is    an AI assistant.\\n\\n It understands natural language.\\n\\n It helps answer    questions fast.\\n\\n It can assist with writing \\n\\ntasks.\\n\\n ChatGPT learns    from vast data.\\n\\nIt adapts to    user needs well.\\n\\n This AI     is by OpenAI's team.\\n\\n It's built to aid     and inform.\\n\\n Ask ChatGPT anything today!“\n",
    "+ Output: \"ChatGPT is an AI assistant. It understands natural language.\\n\\n It helps answer questions fast.\\n\\n It can assist with writing tasks.\\n\\n ChatGPT learns from vast data.It adapts to user needs well.\\n\\n This AI is by OpenAI's team. It's built to aid and inform.\\n\\n Ask ChatGPT anything today!“"
   ]
  },
  {
   "cell_type": "code",
   "execution_count": null,
   "id": "7bb7ed42",
   "metadata": {
    "vscode": {
     "languageId": "plaintext"
    }
   },
   "outputs": [],
   "source": []
  }
 ],
 "metadata": {
  "language_info": {
   "name": "python"
  }
 },
 "nbformat": 4,
 "nbformat_minor": 5
}
