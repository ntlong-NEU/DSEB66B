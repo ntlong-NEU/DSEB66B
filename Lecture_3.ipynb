{
 "cells": [
  {
   "cell_type": "markdown",
   "id": "55e5ddc2",
   "metadata": {},
   "source": [
    "## **Lecture 3: LIST**"
   ]
  },
  {
   "cell_type": "code",
   "execution_count": 2,
   "id": "ab748d52",
   "metadata": {},
   "outputs": [],
   "source": [
    "digits = [1,2,4,2,1,5,6,7, \"one\",'two']"
   ]
  },
  {
   "cell_type": "code",
   "execution_count": 3,
   "id": "b5dff99e",
   "metadata": {},
   "outputs": [
    {
     "data": {
      "text/plain": [
       "[1, 2, 4, 2, 1, 5, 6, 7, 'one', 'two']"
      ]
     },
     "execution_count": 3,
     "metadata": {},
     "output_type": "execute_result"
    }
   ],
   "source": [
    "digits "
   ]
  },
  {
   "cell_type": "code",
   "execution_count": 4,
   "id": "c6b7260e",
   "metadata": {},
   "outputs": [
    {
     "data": {
      "text/plain": [
       "'one'"
      ]
     },
     "execution_count": 4,
     "metadata": {},
     "output_type": "execute_result"
    }
   ],
   "source": [
    "digits[8]"
   ]
  },
  {
   "cell_type": "code",
   "execution_count": 5,
   "id": "57d7ed42",
   "metadata": {},
   "outputs": [
    {
     "data": {
      "text/plain": [
       "'two'"
      ]
     },
     "execution_count": 5,
     "metadata": {},
     "output_type": "execute_result"
    }
   ],
   "source": [
    "digits[-1]"
   ]
  },
  {
   "cell_type": "code",
   "execution_count": 6,
   "id": "845097ba",
   "metadata": {},
   "outputs": [
    {
     "data": {
      "text/plain": [
       "10"
      ]
     },
     "execution_count": 6,
     "metadata": {},
     "output_type": "execute_result"
    }
   ],
   "source": [
    "len(digits)"
   ]
  },
  {
   "cell_type": "code",
   "execution_count": 7,
   "id": "5a07ca18",
   "metadata": {},
   "outputs": [
    {
     "data": {
      "text/plain": [
       "12"
      ]
     },
     "execution_count": 7,
     "metadata": {},
     "output_type": "execute_result"
    }
   ],
   "source": [
    "len('Hello python')"
   ]
  },
  {
   "cell_type": "code",
   "execution_count": 8,
   "id": "e612e7e6",
   "metadata": {},
   "outputs": [
    {
     "ename": "IndexError",
     "evalue": "list index out of range",
     "output_type": "error",
     "traceback": [
      "\u001b[1;31m---------------------------------------------------------------------------\u001b[0m",
      "\u001b[1;31mIndexError\u001b[0m                                Traceback (most recent call last)",
      "Cell \u001b[1;32mIn[8], line 1\u001b[0m\n\u001b[1;32m----> 1\u001b[0m \u001b[43mdigits\u001b[49m\u001b[43m[\u001b[49m\u001b[38;5;241;43m10\u001b[39;49m\u001b[43m]\u001b[49m\n",
      "\u001b[1;31mIndexError\u001b[0m: list index out of range"
     ]
    }
   ],
   "source": [
    "digits[10]"
   ]
  },
  {
   "cell_type": "code",
   "execution_count": 9,
   "id": "73640a37",
   "metadata": {},
   "outputs": [
    {
     "ename": "IndexError",
     "evalue": "list index out of range",
     "output_type": "error",
     "traceback": [
      "\u001b[1;31m---------------------------------------------------------------------------\u001b[0m",
      "\u001b[1;31mIndexError\u001b[0m                                Traceback (most recent call last)",
      "Cell \u001b[1;32mIn[9], line 1\u001b[0m\n\u001b[1;32m----> 1\u001b[0m \u001b[43mdigits\u001b[49m\u001b[43m[\u001b[49m\u001b[38;5;241;43m-\u001b[39;49m\u001b[38;5;241;43m11\u001b[39;49m\u001b[43m]\u001b[49m\n",
      "\u001b[1;31mIndexError\u001b[0m: list index out of range"
     ]
    }
   ],
   "source": [
    "digits[-11]"
   ]
  },
  {
   "cell_type": "code",
   "execution_count": 10,
   "id": "a73ec9ef",
   "metadata": {},
   "outputs": [
    {
     "data": {
      "text/plain": [
       "[1, 2, 4, 2, 1, 5, 6, 7, 'one', 'two']"
      ]
     },
     "execution_count": 10,
     "metadata": {},
     "output_type": "execute_result"
    }
   ],
   "source": [
    "digits"
   ]
  },
  {
   "cell_type": "code",
   "execution_count": 13,
   "id": "5fa6fbf6",
   "metadata": {},
   "outputs": [
    {
     "data": {
      "text/plain": [
       "[1, 2, 4, 2, 'new_item', 5, 6, 7, 'one', 'two']"
      ]
     },
     "execution_count": 13,
     "metadata": {},
     "output_type": "execute_result"
    }
   ],
   "source": [
    "digits[4] = 'new_item'\n",
    "digits "
   ]
  },
  {
   "cell_type": "code",
   "execution_count": 14,
   "id": "b9ba3407",
   "metadata": {},
   "outputs": [
    {
     "data": {
      "text/plain": [
       "[1, 2, 4, 2, 5, 6, 7, 'one', 'two']"
      ]
     },
     "execution_count": 14,
     "metadata": {},
     "output_type": "execute_result"
    }
   ],
   "source": [
    "del digits[4]\n",
    "digits"
   ]
  },
  {
   "cell_type": "code",
   "execution_count": 18,
   "id": "63df9f7e",
   "metadata": {},
   "outputs": [
    {
     "ename": "ValueError",
     "evalue": "list.remove(x): x not in list",
     "output_type": "error",
     "traceback": [
      "\u001b[1;31m---------------------------------------------------------------------------\u001b[0m",
      "\u001b[1;31mValueError\u001b[0m                                Traceback (most recent call last)",
      "Cell \u001b[1;32mIn[18], line 1\u001b[0m\n\u001b[1;32m----> 1\u001b[0m \u001b[43mdigits\u001b[49m\u001b[38;5;241;43m.\u001b[39;49m\u001b[43mremove\u001b[49m\u001b[43m(\u001b[49m\u001b[38;5;241;43m2\u001b[39;49m\u001b[43m)\u001b[49m\n\u001b[0;32m      2\u001b[0m digits\n",
      "\u001b[1;31mValueError\u001b[0m: list.remove(x): x not in list"
     ]
    }
   ],
   "source": [
    "digits.remove(2)\n",
    "digits"
   ]
  },
  {
   "cell_type": "code",
   "execution_count": 20,
   "id": "3881db6c",
   "metadata": {},
   "outputs": [
    {
     "data": {
      "text/plain": [
       "[1, 5, 6, 7, 'one']"
      ]
     },
     "execution_count": 20,
     "metadata": {},
     "output_type": "execute_result"
    }
   ],
   "source": [
    "digits.pop(1) # removes the last item\n",
    "digits"
   ]
  },
  {
   "cell_type": "code",
   "execution_count": 21,
   "id": "e2337b75",
   "metadata": {},
   "outputs": [
    {
     "data": {
      "text/plain": [
       "[1, 5, 6, 7, 'one', 3]"
      ]
     },
     "execution_count": 21,
     "metadata": {},
     "output_type": "execute_result"
    }
   ],
   "source": [
    "digits.append(3)\n",
    "digits"
   ]
  },
  {
   "cell_type": "code",
   "execution_count": 22,
   "id": "286c067d",
   "metadata": {},
   "outputs": [],
   "source": [
    "digits.insert(1, 'inserted_item')"
   ]
  },
  {
   "cell_type": "code",
   "execution_count": 23,
   "id": "7c4c01b3",
   "metadata": {},
   "outputs": [
    {
     "data": {
      "text/plain": [
       "[1, 'inserted_item', 5, 6, 7, 'one', 3]"
      ]
     },
     "execution_count": 23,
     "metadata": {},
     "output_type": "execute_result"
    }
   ],
   "source": [
    "digits"
   ]
  },
  {
   "cell_type": "code",
   "execution_count": 24,
   "id": "a72e6a93",
   "metadata": {},
   "outputs": [
    {
     "data": {
      "text/plain": [
       "[1, 2, 3, 4, 5, 6, 7, 8]"
      ]
     },
     "execution_count": 24,
     "metadata": {},
     "output_type": "execute_result"
    }
   ],
   "source": [
    "[1,2,3,4,5] + [6,7,8]"
   ]
  },
  {
   "cell_type": "code",
   "execution_count": 25,
   "id": "2cd8d042",
   "metadata": {},
   "outputs": [
    {
     "data": {
      "text/plain": [
       "'dfsfdfs'"
      ]
     },
     "execution_count": 25,
     "metadata": {},
     "output_type": "execute_result"
    }
   ],
   "source": [
    "\"dfsf\"+'dfs'"
   ]
  },
  {
   "cell_type": "markdown",
   "id": "48aeac16",
   "metadata": {},
   "source": [
    "**3-4. Guest List:** If you could invite anyone, living or deceased, to dinner, who\n",
    "would you invite? Make a list that includes at least three people you’d like to\n",
    "invite to dinner. Then use your list to print a message to each person, inviting\n",
    "them to dinner.\n"
   ]
  },
  {
   "cell_type": "code",
   "execution_count": 26,
   "id": "cb55e68b",
   "metadata": {},
   "outputs": [
    {
     "name": "stdout",
     "output_type": "stream",
     "text": [
      "Dear Marco, you are invited to today's dinner.\n",
      "Dear Baton, you are invited to today's dinner.\n",
      "Dear Michael, you are invited to today's dinner.\n"
     ]
    }
   ],
   "source": [
    "guest_list = [\"Marco\", \"Baton\", \"Michael\"]\n",
    "print(f\"Dear {guest_list[0]}, you are invited to today's dinner.\")\n",
    "print(f\"Dear {guest_list[1]}, you are invited to today's dinner.\")\n",
    "print(f\"Dear {guest_list[2]}, you are invited to today's dinner.\")"
   ]
  },
  {
   "cell_type": "markdown",
   "id": "d8db5c7d",
   "metadata": {},
   "source": [
    "**3-5. Changing Guest List:** You just heard that one of your guests can’t make the\n",
    "dinner, so you need to send out a new set of invitations. You’ll have to think of\n",
    "someone else to invite.\n",
    "\n",
    "+\t Start with your program from Exercise 3-4. Add a print() call at the end\n",
    "of your program stating the name of the guest who can’t make it.\n",
    "+\t Modify your list, replacing the name of the guest who can’t make it with\n",
    "the name of the new person you are inviting.\n",
    "\n",
    "+\t Print a second set of invitation messages, one for each person who is still\n",
    "in your list.\n"
   ]
  },
  {
   "cell_type": "code",
   "execution_count": null,
   "id": "10909de5",
   "metadata": {},
   "outputs": [
    {
     "name": "stdout",
     "output_type": "stream",
     "text": [
      "Dear Marco, you are invited to today's dinner.\n",
      "Dear Baton, you are invited to today's dinner.\n",
      "Dear Michael, you are invited to today's dinner.\n",
      "The guest who can't make it: Baton\n",
      "Dear Tony, you are invited to today's dinner.\n",
      "Second set of invitations:\n",
      "Dear Marco, you are invited to today's dinner.\n",
      "Dear Michael, you are invited to today's dinner.\n"
     ]
    }
   ],
   "source": [
    "guest_list = [\"Marco\", \"Baton\", \"Michael\"]\n",
    "print(f\"Dear {guest_list[0]}, you are invited to today's dinner.\")\n",
    "print(f\"Dear {guest_list[2]}, you are invited to today's dinner.\")\n",
    "print(f\"The guest who can't make it: {guest_list[1]}\")\n",
    "guest_list[1] = \"Tony\"\n",
    "print(f\"Dear {guest_list[1]}, you are invited to today's dinner.\")\n",
    "print(f\"Second set of invitations:\")\n",
    "print(f\"Dear {guest_list[0]}, you are invited to today's dinner.\")\n",
    "print(f\"Dear {guest_list[2]}, you are invited to today's dinner.\")"
   ]
  },
  {
   "cell_type": "markdown",
   "id": "11a1e15c",
   "metadata": {},
   "source": [
    "**3-6. More Guests:** You just found a bigger dinner table, so now more space is\n",
    "available. Think of three more guests to invite to dinner.\n",
    "\n",
    "+\t Start with your program from Exercise 3-4 or Exercise 3-5. Add a print()\n",
    "call to the end of your program informing people that you found a bigger\n",
    "dinner table.\n",
    "\n",
    "+\t Use insert() to add one new guest to the beginning of your list.\n",
    "\n",
    "+\t Use insert() to add one new guest to the middle of your list.\n",
    "\n",
    "+\t Use append() to add one new guest to the end of your list.\n",
    "\n",
    "+\t Print a new set of invitation messages, one for each person in your list\n"
   ]
  },
  {
   "cell_type": "code",
   "execution_count": 35,
   "id": "0b160113",
   "metadata": {},
   "outputs": [
    {
     "name": "stdout",
     "output_type": "stream",
     "text": [
      "Dear Marco, I found a bigger dinner table.\n",
      "Dear Baton, I found a bigger dinner table.\n",
      "Dear Michael, I found a bigger dinner table.\n",
      "['Tony', 'Marco', 'John', 'Baton', 'Michael', 'Alice']\n",
      "Dear Tony, you are invited to today's dinner.\n",
      "Dear Marco, you are invited to today's dinner.\n",
      "Dear John, you are invited to today's dinner.\n",
      "Dear Baton, you are invited to today's dinner.\n",
      "Dear Michael, you are invited to today's dinner.\n",
      "Dear Alice, you are invited to today's dinner.\n"
     ]
    }
   ],
   "source": [
    "guest_list = [\"Marco\", \"Baton\", \"Michael\"]\n",
    "print(f\"Dear {guest_list[0]}, I found a bigger dinner table.\")\n",
    "print(f\"Dear {guest_list[1]}, I found a bigger dinner table.\")\n",
    "print(f\"Dear {guest_list[2]}, I found a bigger dinner table.\")\n",
    "guest_list.insert(0, \"Tony\")\n",
    "guest_list.insert(2, \"John\")\n",
    "guest_list.append(\"Alice\")\n",
    "print(guest_list)\n",
    "print(f\"Dear {guest_list[0]}, you are invited to today's dinner.\")\n",
    "print(f\"Dear {guest_list[1]}, you are invited to today's dinner.\")\n",
    "print(f\"Dear {guest_list[2]}, you are invited to today's dinner.\") \n",
    "print(f\"Dear {guest_list[3]}, you are invited to today's dinner.\")\n",
    "print(f\"Dear {guest_list[4]}, you are invited to today's dinner.\")\n",
    "print(f\"Dear {guest_list[5]}, you are invited to today's dinner.\")"
   ]
  },
  {
   "cell_type": "markdown",
   "id": "b6e9cf74",
   "metadata": {},
   "source": [
    "\n",
    "**3-7. Shrinking Guest List:** You just found out that your new dinner table won’t\n",
    "arrive in time for the dinner, and you have space for only two guests.\n",
    "\n",
    "+\t Start with your program from Exercise 3-6. Add a new line that prints a\n",
    "message saying that you can invite only two people for dinner.\n",
    "\n",
    "+\t Use pop() to remove guests from your list one at a time until only two\n",
    "names remain in your list. Each time you pop a name from your list, print\n",
    "a message to that person letting them know you’re sorry you can’t invite\n",
    "them to dinner.\n",
    "\n",
    "+\t Print a message to each of the two people still on your list, letting them\n",
    "know they’re still invited.\n",
    "\n",
    "+\t Use del to remove the last two names from your list, so you have an empty\n",
    "list. Print your list to make sure you actually have an empty list at the end\n",
    "of your program"
   ]
  },
  {
   "cell_type": "code",
   "execution_count": 36,
   "id": "73ab02f3",
   "metadata": {},
   "outputs": [
    {
     "name": "stdout",
     "output_type": "stream",
     "text": [
      "Dear Tony, I can invite only two people for dinner.\n",
      "Dear Marco, I can invite only two people for dinner.\n",
      "Dear John, I can invite only two people for dinner.\n",
      "Dear Baton, I can invite only two people for dinner.\n",
      "Dear Michael, I can invite only two people for dinner.\n",
      "Dear Alice, I can invite only two people for dinner.\n",
      "Dear Tony, you are still invited to today's dinner.\n",
      "Dear Marco, you are still invited to today's dinner.\n",
      "['Marco']\n"
     ]
    }
   ],
   "source": [
    "print(f\"Dear {guest_list[0]}, I can invite only two people for dinner.\")\n",
    "print(f\"Dear {guest_list[1]}, I can invite only two people for dinner.\")\n",
    "print(f\"Dear {guest_list[2]}, I can invite only two people for dinner.\")\n",
    "print(f\"Dear {guest_list[3]}, I can invite only two people for dinner.\")\n",
    "print(f\"Dear {guest_list[4]}, I can invite only two people for dinner.\")\n",
    "print(f\"Dear {guest_list[5]}, I can invite only two people for dinner.\")\n",
    "guest_list.pop()\n",
    "guest_list.pop()\n",
    "guest_list.pop()\n",
    "guest_list.pop()\n",
    "print(f\"Dear {guest_list[0]}, you are still invited to today's dinner.\")\n",
    "print(f\"Dear {guest_list[1]}, you are still invited to today's dinner.\")\n",
    "del guest_list[0]\n",
    "print(guest_list)"
   ]
  },
  {
   "cell_type": "code",
   "execution_count": 45,
   "id": "9bf9d69a",
   "metadata": {},
   "outputs": [
    {
     "name": "stdout",
     "output_type": "stream",
     "text": [
      "['toyota', 'audi', 'bmw', 'subaru', 'huyndai']\n"
     ]
    }
   ],
   "source": [
    "cars = ['toyota','audi', 'bmw', 'subaru', 'huyndai']\n",
    "print(cars)"
   ]
  },
  {
   "cell_type": "code",
   "execution_count": 46,
   "id": "22ac5aae",
   "metadata": {},
   "outputs": [
    {
     "data": {
      "text/plain": [
       "['toyota', 'subaru', 'huyndai', 'bmw', 'audi']"
      ]
     },
     "execution_count": 46,
     "metadata": {},
     "output_type": "execute_result"
    }
   ],
   "source": [
    "sorted(cars, reverse=True) # creates a sorted copy of the list "
   ]
  },
  {
   "cell_type": "code",
   "execution_count": 47,
   "id": "f362be2d",
   "metadata": {},
   "outputs": [
    {
     "data": {
      "text/plain": [
       "['toyota', 'audi', 'bmw', 'subaru', 'huyndai']"
      ]
     },
     "execution_count": 47,
     "metadata": {},
     "output_type": "execute_result"
    }
   ],
   "source": [
    "cars "
   ]
  },
  {
   "cell_type": "code",
   "execution_count": 48,
   "id": "7893444b",
   "metadata": {},
   "outputs": [
    {
     "data": {
      "text/plain": [
       "['audi', 'bmw', 'huyndai', 'subaru', 'toyota']"
      ]
     },
     "execution_count": 48,
     "metadata": {},
     "output_type": "execute_result"
    }
   ],
   "source": [
    "cars.sort() # sorts the list in place\n",
    "cars "
   ]
  },
  {
   "cell_type": "code",
   "execution_count": 49,
   "id": "34e56370",
   "metadata": {},
   "outputs": [
    {
     "data": {
      "text/plain": [
       "[1, 'inserted_item', 5, 6, 7, 'one', 3]"
      ]
     },
     "execution_count": 49,
     "metadata": {},
     "output_type": "execute_result"
    }
   ],
   "source": [
    "digits \n"
   ]
  },
  {
   "cell_type": "code",
   "execution_count": 51,
   "id": "5ade0389",
   "metadata": {},
   "outputs": [
    {
     "data": {
      "text/plain": [
       "[1, 5, 6, 7, 3, 'one', 'inserted_item']"
      ]
     },
     "execution_count": 51,
     "metadata": {},
     "output_type": "execute_result"
    }
   ],
   "source": [
    "sorted(digits, key =lambda x: len(str(x)))"
   ]
  },
  {
   "cell_type": "code",
   "execution_count": 52,
   "id": "71e28070",
   "metadata": {},
   "outputs": [
    {
     "data": {
      "text/plain": [
       "[['An', 8], ['Minh', 9], ['Huy', 10], ['Duc', 7], ['Nam', 8]]"
      ]
     },
     "execution_count": 52,
     "metadata": {},
     "output_type": "execute_result"
    }
   ],
   "source": [
    "scores =  [['An',8],[\"Minh\",9],[\"Huy\",10],[\"Duc\",7],[\"Nam\",8]]\n",
    "scores "
   ]
  },
  {
   "cell_type": "code",
   "execution_count": 53,
   "id": "148d1af0",
   "metadata": {},
   "outputs": [
    {
     "data": {
      "text/plain": [
       "[['An', 8], ['Duc', 7], ['Huy', 10], ['Minh', 9], ['Nam', 8]]"
      ]
     },
     "execution_count": 53,
     "metadata": {},
     "output_type": "execute_result"
    }
   ],
   "source": [
    "sorted(scores) "
   ]
  },
  {
   "cell_type": "code",
   "execution_count": 54,
   "id": "d5da5d96",
   "metadata": {},
   "outputs": [
    {
     "data": {
      "text/plain": [
       "[['Huy', 10], ['Minh', 9], ['An', 8], ['Nam', 8], ['Duc', 7]]"
      ]
     },
     "execution_count": 54,
     "metadata": {},
     "output_type": "execute_result"
    }
   ],
   "source": [
    "sorted(scores, key=lambda x: x[1], reverse=True) #  sorts by the second element of each sublist"
   ]
  },
  {
   "cell_type": "code",
   "execution_count": 55,
   "id": "2e844f99",
   "metadata": {},
   "outputs": [
    {
     "name": "stdout",
     "output_type": "stream",
     "text": [
      "['An', 8]\n",
      "An 8\n",
      "['Minh', 9]\n",
      "Minh 9\n",
      "['Huy', 10]\n",
      "Huy 10\n",
      "['Duc', 7]\n",
      "Duc 7\n",
      "['Nam', 8]\n",
      "Nam 8\n"
     ]
    }
   ],
   "source": [
    "for item in scores:\n",
    "    print(item)\n",
    "    print(item[0], item[1])"
   ]
  },
  {
   "cell_type": "code",
   "execution_count": 56,
   "id": "768da764",
   "metadata": {},
   "outputs": [
    {
     "name": "stdout",
     "output_type": "stream",
     "text": [
      "M\n",
      "a\n",
      "r\n",
      "c\n",
      "o\n",
      " \n",
      "P\n",
      "o\n",
      "l\n",
      "o\n"
     ]
    }
   ],
   "source": [
    "full_name = \"Marco Polo\"\n",
    "for char in full_name:\n",
    "    print(char)"
   ]
  },
  {
   "cell_type": "code",
   "execution_count": 57,
   "id": "428fc5b5",
   "metadata": {},
   "outputs": [],
   "source": [
    "full_name = \"Marco Polo\"\n",
    "full_name_1 = ''\n",
    "for char in full_name:\n",
    "    full_name_1 += char+'-'"
   ]
  },
  {
   "cell_type": "code",
   "execution_count": 58,
   "id": "5d593185",
   "metadata": {},
   "outputs": [
    {
     "data": {
      "text/plain": [
       "'M-a-r-c-o- -P-o-l-o-'"
      ]
     },
     "execution_count": 58,
     "metadata": {},
     "output_type": "execute_result"
    }
   ],
   "source": [
    "full_name_1"
   ]
  },
  {
   "cell_type": "code",
   "execution_count": 63,
   "id": "627df39a",
   "metadata": {},
   "outputs": [
    {
     "data": {
      "text/plain": [
       "'Marco Polo'"
      ]
     },
     "execution_count": 63,
     "metadata": {},
     "output_type": "execute_result"
    }
   ],
   "source": [
    "''.join(list(full_name))"
   ]
  },
  {
   "cell_type": "code",
   "execution_count": 64,
   "id": "a128f7db",
   "metadata": {},
   "outputs": [
    {
     "name": "stdout",
     "output_type": "stream",
     "text": [
      "Hello\n",
      "Hello\n",
      "Hello\n",
      "Hello\n",
      "Hello\n",
      "Hello\n",
      "Hello\n",
      "Hello\n",
      "Hello\n",
      "Hello\n"
     ]
    }
   ],
   "source": [
    "for _ in full_name:\n",
    "    print(\"Hello\")"
   ]
  },
  {
   "cell_type": "code",
   "execution_count": null,
   "id": "dc92bca2",
   "metadata": {},
   "outputs": [],
   "source": []
  }
 ],
 "metadata": {
  "kernelspec": {
   "display_name": "env-teaching",
   "language": "python",
   "name": "python3"
  },
  "language_info": {
   "codemirror_mode": {
    "name": "ipython",
    "version": 3
   },
   "file_extension": ".py",
   "mimetype": "text/x-python",
   "name": "python",
   "nbconvert_exporter": "python",
   "pygments_lexer": "ipython3",
   "version": "3.11.7"
  }
 },
 "nbformat": 4,
 "nbformat_minor": 5
}
