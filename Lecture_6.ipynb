{
 "cells": [
  {
   "cell_type": "markdown",
   "id": "b4ed09b2",
   "metadata": {},
   "source": [
    "## Lecture 6: Dictionary"
   ]
  },
  {
   "cell_type": "code",
   "execution_count": 2,
   "id": "1681ec63",
   "metadata": {},
   "outputs": [
    {
     "data": {
      "text/plain": [
       "{'Lan': 10, 'Mai': 9}"
      ]
     },
     "execution_count": 2,
     "metadata": {},
     "output_type": "execute_result"
    }
   ],
   "source": [
    "scores = {'Lan':8, \"Mai\":9, 'Lan':10}\n",
    "scores"
   ]
  },
  {
   "cell_type": "code",
   "execution_count": 3,
   "id": "33dbc786",
   "metadata": {},
   "outputs": [
    {
     "data": {
      "text/plain": [
       "dict"
      ]
     },
     "execution_count": 3,
     "metadata": {},
     "output_type": "execute_result"
    }
   ],
   "source": [
    "type(scores)"
   ]
  },
  {
   "cell_type": "code",
   "execution_count": 4,
   "id": "45ee7e2e",
   "metadata": {},
   "outputs": [
    {
     "data": {
      "text/plain": [
       "{'Lan': 10, 'Mai': 9, 'Anh': 10}"
      ]
     },
     "execution_count": 4,
     "metadata": {},
     "output_type": "execute_result"
    }
   ],
   "source": [
    "scores = {'Lan':8, \"Mai\":9, 'Lan':10,'Anh':10}\n",
    "scores"
   ]
  },
  {
   "cell_type": "code",
   "execution_count": 5,
   "id": "b4b25fc2",
   "metadata": {},
   "outputs": [],
   "source": [
    "scores = {('Lan','Hoa'):8, \"Mai\":9, 'Lan':10,'Anh':10}"
   ]
  },
  {
   "cell_type": "code",
   "execution_count": 6,
   "id": "db7b6c04",
   "metadata": {},
   "outputs": [
    {
     "data": {
      "text/plain": [
       "10"
      ]
     },
     "execution_count": 6,
     "metadata": {},
     "output_type": "execute_result"
    }
   ],
   "source": [
    "scores['Lan']"
   ]
  },
  {
   "cell_type": "code",
   "execution_count": 7,
   "id": "d3279898",
   "metadata": {},
   "outputs": [
    {
     "data": {
      "text/plain": [
       "{('Lan', 'Hoa'): 8, 'Mai': 9, 'Lan': 9, 'Anh': 10}"
      ]
     },
     "execution_count": 7,
     "metadata": {},
     "output_type": "execute_result"
    }
   ],
   "source": [
    "scores['Lan'] = 9\n",
    "scores"
   ]
  },
  {
   "cell_type": "code",
   "execution_count": 8,
   "id": "c9cc1bc7",
   "metadata": {},
   "outputs": [
    {
     "data": {
      "text/plain": [
       "{('Lan', 'Hoa'): 8, 'Mai': 9, 'Lan': 9, 'Anh': 10, 'Hung': 7}"
      ]
     },
     "execution_count": 8,
     "metadata": {},
     "output_type": "execute_result"
    }
   ],
   "source": [
    "scores['Hung'] = 7\n",
    "scores"
   ]
  },
  {
   "cell_type": "code",
   "execution_count": 9,
   "id": "97408897",
   "metadata": {},
   "outputs": [
    {
     "data": {
      "text/plain": [
       "{'Mai': 9, 'Lan': 9, 'Anh': 10, 'Hung': 7}"
      ]
     },
     "execution_count": 9,
     "metadata": {},
     "output_type": "execute_result"
    }
   ],
   "source": [
    "del scores[('Lan', 'Hoa')]\n",
    "scores"
   ]
  },
  {
   "cell_type": "code",
   "execution_count": 10,
   "id": "34fcc987",
   "metadata": {},
   "outputs": [
    {
     "data": {
      "text/plain": [
       "{'Mai': 9, 'Lan': 9, 'Anh': 10, 'Hung': 7}"
      ]
     },
     "execution_count": 10,
     "metadata": {},
     "output_type": "execute_result"
    }
   ],
   "source": [
    "scores"
   ]
  },
  {
   "cell_type": "code",
   "execution_count": 11,
   "id": "35bd1f5a",
   "metadata": {},
   "outputs": [
    {
     "ename": "KeyError",
     "evalue": "'Hoang'",
     "output_type": "error",
     "traceback": [
      "\u001b[1;31m---------------------------------------------------------------------------\u001b[0m",
      "\u001b[1;31mKeyError\u001b[0m                                  Traceback (most recent call last)",
      "Cell \u001b[1;32mIn[11], line 1\u001b[0m\n\u001b[1;32m----> 1\u001b[0m \u001b[43mscores\u001b[49m\u001b[43m[\u001b[49m\u001b[38;5;124;43m'\u001b[39;49m\u001b[38;5;124;43mHoang\u001b[39;49m\u001b[38;5;124;43m'\u001b[39;49m\u001b[43m]\u001b[49m\n",
      "\u001b[1;31mKeyError\u001b[0m: 'Hoang'"
     ]
    }
   ],
   "source": [
    "scores['Hoang']"
   ]
  },
  {
   "cell_type": "code",
   "execution_count": 12,
   "id": "ddcdcf6a",
   "metadata": {},
   "outputs": [
    {
     "data": {
      "text/plain": [
       "'No key'"
      ]
     },
     "execution_count": 12,
     "metadata": {},
     "output_type": "execute_result"
    }
   ],
   "source": [
    "scores.get('Hoang','No key')"
   ]
  },
  {
   "cell_type": "code",
   "execution_count": 13,
   "id": "75167927",
   "metadata": {},
   "outputs": [
    {
     "data": {
      "text/plain": [
       "dict_items([('Mai', 9), ('Lan', 9), ('Anh', 10), ('Hung', 7)])"
      ]
     },
     "execution_count": 13,
     "metadata": {},
     "output_type": "execute_result"
    }
   ],
   "source": [
    "scores.items()"
   ]
  },
  {
   "cell_type": "code",
   "execution_count": 15,
   "id": "d5b5cff9",
   "metadata": {},
   "outputs": [
    {
     "data": {
      "text/plain": [
       "[('a', 1), ('b', 2), ('c', 3)]"
      ]
     },
     "execution_count": 15,
     "metadata": {},
     "output_type": "execute_result"
    }
   ],
   "source": [
    "list(zip(['a','b','c'],[1,2,3]))"
   ]
  },
  {
   "cell_type": "code",
   "execution_count": 18,
   "id": "aa642d9e",
   "metadata": {},
   "outputs": [
    {
     "name": "stdout",
     "output_type": "stream",
     "text": [
      "Mai\n",
      "9\n",
      "Lan\n",
      "9\n",
      "Anh\n",
      "10\n",
      "Hung\n",
      "7\n"
     ]
    }
   ],
   "source": [
    "for key, val in scores.items():\n",
    "    print(key)\n",
    "    print(val)"
   ]
  },
  {
   "cell_type": "code",
   "execution_count": 20,
   "id": "6ca5e1d7",
   "metadata": {},
   "outputs": [
    {
     "data": {
      "text/plain": [
       "dict_keys(['Mai', 'Lan', 'Anh', 'Hung'])"
      ]
     },
     "execution_count": 20,
     "metadata": {},
     "output_type": "execute_result"
    }
   ],
   "source": [
    "scores.keys()"
   ]
  },
  {
   "cell_type": "code",
   "execution_count": 21,
   "id": "82707619",
   "metadata": {},
   "outputs": [
    {
     "data": {
      "text/plain": [
       "dict_values([9, 9, 10, 7])"
      ]
     },
     "execution_count": 21,
     "metadata": {},
     "output_type": "execute_result"
    }
   ],
   "source": [
    "scores.values()"
   ]
  },
  {
   "cell_type": "code",
   "execution_count": 23,
   "id": "180bc6ea",
   "metadata": {},
   "outputs": [
    {
     "data": {
      "text/plain": [
       "[('Mai', 9), ('Lan', 9), ('Anh', 10), ('Hung', 7)]"
      ]
     },
     "execution_count": 23,
     "metadata": {},
     "output_type": "execute_result"
    }
   ],
   "source": [
    "list(zip(scores.keys(),scores.values()))"
   ]
  },
  {
   "cell_type": "code",
   "execution_count": 24,
   "id": "ec54c2c6",
   "metadata": {},
   "outputs": [
    {
     "name": "stdout",
     "output_type": "stream",
     "text": [
      "The Zen of Python, by Tim Peters\n",
      "\n",
      "Beautiful is better than ugly.\n",
      "Explicit is better than implicit.\n",
      "Simple is better than complex.\n",
      "Complex is better than complicated.\n",
      "Flat is better than nested.\n",
      "Sparse is better than dense.\n",
      "Readability counts.\n",
      "Special cases aren't special enough to break the rules.\n",
      "Although practicality beats purity.\n",
      "Errors should never pass silently.\n",
      "Unless explicitly silenced.\n",
      "In the face of ambiguity, refuse the temptation to guess.\n",
      "There should be one-- and preferably only one --obvious way to do it.\n",
      "Although that way may not be obvious at first unless you're Dutch.\n",
      "Now is better than never.\n",
      "Although never is often better than *right* now.\n",
      "If the implementation is hard to explain, it's a bad idea.\n",
      "If the implementation is easy to explain, it may be a good idea.\n",
      "Namespaces are one honking great idea -- let's do more of those!\n"
     ]
    }
   ],
   "source": [
    "import this "
   ]
  },
  {
   "cell_type": "code",
   "execution_count": 25,
   "id": "3530606f",
   "metadata": {},
   "outputs": [],
   "source": [
    "text = '''The Zen of Python, by Tim Peters\n",
    "\n",
    "Beautiful is better than ugly.\n",
    "Explicit is better than implicit.\n",
    "Simple is better than complex.\n",
    "Complex is better than complicated.\n",
    "Flat is better than nested.\n",
    "Sparse is better than dense.\n",
    "Readability counts.\n",
    "Special cases aren't special enough to break the rules.\n",
    "Although practicality beats purity.\n",
    "Errors should never pass silently.\n",
    "Unless explicitly silenced.\n",
    "In the face of ambiguity, refuse the temptation to guess.\n",
    "There should be one-- and preferably only one --obvious way to do it.\n",
    "Although that way may not be obvious at first unless you're Dutch.\n",
    "Now is better than never.\n",
    "Although never is often better than *right* now.\n",
    "If the implementation is hard to explain, it's a bad idea.\n",
    "If the implementation is easy to explain, it may be a good idea.\n",
    "Namespaces are one honking great idea -- let's do more of those!'''"
   ]
  },
  {
   "cell_type": "code",
   "execution_count": 26,
   "id": "213422a6",
   "metadata": {},
   "outputs": [],
   "source": [
    "#normalization\n",
    "text_nor = text.lower()\n",
    "special_chars = {'.',';','-','*','!','?'}\n",
    "for char in special_chars:\n",
    "    text_nor = text_nor.replace(char,' ')"
   ]
  },
  {
   "cell_type": "code",
   "execution_count": 27,
   "id": "ca9d1576",
   "metadata": {},
   "outputs": [
    {
     "name": "stdout",
     "output_type": "stream",
     "text": [
      "['the', 'zen', 'of', 'python,', 'by', 'tim', 'peters', 'beautiful', 'is', 'better', 'than', 'ugly', 'explicit', 'is', 'better', 'than', 'implicit', 'simple', 'is', 'better', 'than', 'complex', 'complex', 'is', 'better', 'than', 'complicated', 'flat', 'is', 'better', 'than', 'nested', 'sparse', 'is', 'better', 'than', 'dense', 'readability', 'counts', 'special', 'cases', \"aren't\", 'special', 'enough', 'to', 'break', 'the', 'rules', 'although', 'practicality', 'beats', 'purity', 'errors', 'should', 'never', 'pass', 'silently', 'unless', 'explicitly', 'silenced', 'in', 'the', 'face', 'of', 'ambiguity,', 'refuse', 'the', 'temptation', 'to', 'guess', 'there', 'should', 'be', 'one', 'and', 'preferably', 'only', 'one', 'obvious', 'way', 'to', 'do', 'it', 'although', 'that', 'way', 'may', 'not', 'be', 'obvious', 'at', 'first', 'unless', \"you're\", 'dutch', 'now', 'is', 'better', 'than', 'never', 'although', 'never', 'is', 'often', 'better', 'than', 'right', 'now', 'if', 'the', 'implementation', 'is', 'hard', 'to', 'explain,', \"it's\", 'a', 'bad', 'idea', 'if', 'the', 'implementation', 'is', 'easy', 'to', 'explain,', 'it', 'may', 'be', 'a', 'good', 'idea', 'namespaces', 'are', 'one', 'honking', 'great', 'idea', \"let's\", 'do', 'more', 'of', 'those']\n"
     ]
    }
   ],
   "source": [
    "words = text_nor.split()\n",
    "print(words)"
   ]
  },
  {
   "cell_type": "code",
   "execution_count": 28,
   "id": "e1d62c59",
   "metadata": {},
   "outputs": [
    {
     "name": "stdout",
     "output_type": "stream",
     "text": [
      "{'the': 6, 'zen': 1, 'of': 3, 'python,': 1, 'by': 1, 'tim': 1, 'peters': 1, 'beautiful': 1, 'is': 10, 'better': 8, 'than': 8, 'ugly': 1, 'explicit': 1, 'implicit': 1, 'simple': 1, 'complex': 2, 'complicated': 1, 'flat': 1, 'nested': 1, 'sparse': 1, 'dense': 1, 'readability': 1, 'counts': 1, 'special': 2, 'cases': 1, \"aren't\": 1, 'enough': 1, 'to': 5, 'break': 1, 'rules': 1, 'although': 3, 'practicality': 1, 'beats': 1, 'purity': 1, 'errors': 1, 'should': 2, 'never': 3, 'pass': 1, 'silently': 1, 'unless': 2, 'explicitly': 1, 'silenced': 1, 'in': 1, 'face': 1, 'ambiguity,': 1, 'refuse': 1, 'temptation': 1, 'guess': 1, 'there': 1, 'be': 3, 'one': 3, 'and': 1, 'preferably': 1, 'only': 1, 'obvious': 2, 'way': 2, 'do': 2, 'it': 2, 'that': 1, 'may': 2, 'not': 1, 'at': 1, 'first': 1, \"you're\": 1, 'dutch': 1, 'now': 2, 'often': 1, 'right': 1, 'if': 2, 'implementation': 2, 'hard': 1, 'explain,': 2, \"it's\": 1, 'a': 2, 'bad': 1, 'idea': 3, 'easy': 1, 'good': 1, 'namespaces': 1, 'are': 1, 'honking': 1, 'great': 1, \"let's\": 1, 'more': 1, 'those': 1}\n"
     ]
    }
   ],
   "source": [
    "fre_dict = {} # = dict(); item = word: frequency\n",
    "for w in words:\n",
    "    if w in fre_dict:\n",
    "        fre_dict[w] += 1\n",
    "    else:\n",
    "        fre_dict[w] = 1\n",
    "print(fre_dict)"
   ]
  },
  {
   "cell_type": "code",
   "execution_count": 29,
   "id": "e3ae9bad",
   "metadata": {},
   "outputs": [
    {
     "name": "stdout",
     "output_type": "stream",
     "text": [
      "{'a': 3, 'b': 2, 'c': 1}\n"
     ]
    }
   ],
   "source": [
    "fre_chars ={}\n",
    "for char in list(\"abaabc\"):\n",
    "    if char in fre_chars:\n",
    "        fre_chars[char] += 1\n",
    "    else:\n",
    "        fre_chars[char] = 1\n",
    "print(fre_chars)"
   ]
  },
  {
   "cell_type": "code",
   "execution_count": 32,
   "id": "cdae56fb",
   "metadata": {},
   "outputs": [
    {
     "data": {
      "text/plain": [
       "'c'"
      ]
     },
     "execution_count": 32,
     "metadata": {},
     "output_type": "execute_result"
    }
   ],
   "source": [
    "max(fre_chars)"
   ]
  },
  {
   "cell_type": "code",
   "execution_count": 33,
   "id": "388e1155",
   "metadata": {},
   "outputs": [
    {
     "name": "stdout",
     "output_type": "stream",
     "text": [
      "Kí tự xuất hiện nhiều nhất: a\n",
      "số lần xuất hiện: 3\n"
     ]
    }
   ],
   "source": [
    "max_char = max(fre_chars, key=fre_chars.get)\n",
    "print(\"Kí tự xuất hiện nhiều nhất:\", max_char)\n",
    "print(\"số lần xuất hiện:\", fre_chars[max_char])"
   ]
  },
  {
   "cell_type": "code",
   "execution_count": null,
   "id": "4fe41b86",
   "metadata": {},
   "outputs": [
    {
     "data": {
      "text/plain": [
       "[('a', 3), ('b', 2), ('c', 1)]"
      ]
     },
     "execution_count": 36,
     "metadata": {},
     "output_type": "execute_result"
    }
   ],
   "source": [
    "sorted(fre_chars.items(), key= lambda x: x[1], reverse= True)"
   ]
  },
  {
   "cell_type": "code",
   "execution_count": 38,
   "id": "0ec35edc",
   "metadata": {},
   "outputs": [
    {
     "data": {
      "text/plain": [
       "{'the': 6,\n",
       " 'zen': 1,\n",
       " 'of': 3,\n",
       " 'python,': 1,\n",
       " 'by': 1,\n",
       " 'tim': 1,\n",
       " 'peters': 1,\n",
       " 'beautiful': 1,\n",
       " 'is': 10,\n",
       " 'better': 8,\n",
       " 'than': 8,\n",
       " 'ugly': 1,\n",
       " 'explicit': 1,\n",
       " 'implicit': 1,\n",
       " 'simple': 1,\n",
       " 'complex': 2,\n",
       " 'complicated': 1,\n",
       " 'flat': 1,\n",
       " 'nested': 1,\n",
       " 'sparse': 1,\n",
       " 'dense': 1,\n",
       " 'readability': 1,\n",
       " 'counts': 1,\n",
       " 'special': 2,\n",
       " 'cases': 1,\n",
       " \"aren't\": 1,\n",
       " 'enough': 1,\n",
       " 'to': 5,\n",
       " 'break': 1,\n",
       " 'rules': 1,\n",
       " 'although': 3,\n",
       " 'practicality': 1,\n",
       " 'beats': 1,\n",
       " 'purity': 1,\n",
       " 'errors': 1,\n",
       " 'should': 2,\n",
       " 'never': 3,\n",
       " 'pass': 1,\n",
       " 'silently': 1,\n",
       " 'unless': 2,\n",
       " 'explicitly': 1,\n",
       " 'silenced': 1,\n",
       " 'in': 1,\n",
       " 'face': 1,\n",
       " 'ambiguity,': 1,\n",
       " 'refuse': 1,\n",
       " 'temptation': 1,\n",
       " 'guess': 1,\n",
       " 'there': 1,\n",
       " 'be': 3,\n",
       " 'one': 3,\n",
       " 'and': 1,\n",
       " 'preferably': 1,\n",
       " 'only': 1,\n",
       " 'obvious': 2,\n",
       " 'way': 2,\n",
       " 'do': 2,\n",
       " 'it': 2,\n",
       " 'that': 1,\n",
       " 'may': 2,\n",
       " 'not': 1,\n",
       " 'at': 1,\n",
       " 'first': 1,\n",
       " \"you're\": 1,\n",
       " 'dutch': 1,\n",
       " 'now': 2,\n",
       " 'often': 1,\n",
       " 'right': 1,\n",
       " 'if': 2,\n",
       " 'implementation': 2,\n",
       " 'hard': 1,\n",
       " 'explain,': 2,\n",
       " \"it's\": 1,\n",
       " 'a': 2,\n",
       " 'bad': 1,\n",
       " 'idea': 3,\n",
       " 'easy': 1,\n",
       " 'good': 1,\n",
       " 'namespaces': 1,\n",
       " 'are': 1,\n",
       " 'honking': 1,\n",
       " 'great': 1,\n",
       " \"let's\": 1,\n",
       " 'more': 1,\n",
       " 'those': 1}"
      ]
     },
     "execution_count": 38,
     "metadata": {},
     "output_type": "execute_result"
    }
   ],
   "source": [
    "fre_dict"
   ]
  },
  {
   "cell_type": "code",
   "execution_count": 41,
   "id": "29440c3b",
   "metadata": {},
   "outputs": [],
   "source": [
    "top10_wordfre = dict(sorted(fre_dict.items(), key= lambda x: x[1], reverse= True)[:10])"
   ]
  },
  {
   "cell_type": "code",
   "execution_count": 43,
   "id": "abee6930",
   "metadata": {},
   "outputs": [
    {
     "data": {
      "text/plain": [
       "<Axes: >"
      ]
     },
     "execution_count": 43,
     "metadata": {},
     "output_type": "execute_result"
    },
    {
     "data": {
      "image/png": "[encoded data removed]",
      "text/plain": [
       "<Figure size 640x480 with 1 Axes>"
      ]
     },
     "metadata": {},
     "output_type": "display_data"
    }
   ],
   "source": [
    "import pandas as pd \n",
    "pd.Series(top10_wordfre).plot(kind='barh')"
   ]
  },
  {
   "cell_type": "code",
   "execution_count": null,
   "id": "85a5fa5b",
   "metadata": {},
   "outputs": [],
   "source": []
  }
 ],
 "metadata": {
  "kernelspec": {
   "display_name": "env-teaching",
   "language": "python",
   "name": "python3"
  },
  "language_info": {
   "codemirror_mode": {
    "name": "ipython",
    "version": 3
   },
   "file_extension": ".py",
   "mimetype": "text/x-python",
   "name": "python",
   "nbconvert_exporter": "python",
   "pygments_lexer": "ipython3",
   "version": "3.11.7"
  }
 },
 "nbformat": 4,
 "nbformat_minor": 5
}
