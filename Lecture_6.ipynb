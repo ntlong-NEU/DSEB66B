{
 "cells": [
  {
   "cell_type": "markdown",
   "id": "b4ed09b2",
   "metadata": {},
   "source": [
    "## Lecture 6: Dictionary"
   ]
  },
  {
   "cell_type": "code",
   "execution_count": 1,
   "id": "1681ec63",
   "metadata": {},
   "outputs": [
    {
     "data": {
      "text/plain": [
       "{'Lan': 10, 'Mai': 9}"
      ]
     },
     "execution_count": 1,
     "metadata": {},
     "output_type": "execute_result"
    }
   ],
   "source": [
    "scores = {'Lan':8, \"Mai\":9, 'Lan':10}\n",
    "scores"
   ]
  },
  {
   "cell_type": "code",
   "execution_count": 2,
   "id": "33dbc786",
   "metadata": {},
   "outputs": [
    {
     "data": {
      "text/plain": [
       "dict"
      ]
     },
     "execution_count": 2,
     "metadata": {},
     "output_type": "execute_result"
    }
   ],
   "source": [
    "type(scores)"
   ]
  },
  {
   "cell_type": "code",
   "execution_count": 3,
   "id": "45ee7e2e",
   "metadata": {},
   "outputs": [
    {
     "data": {
      "text/plain": [
       "{'Lan': 10, 'Mai': 9, 'Anh': 10}"
      ]
     },
     "execution_count": 3,
     "metadata": {},
     "output_type": "execute_result"
    }
   ],
   "source": [
    "scores = {'Lan':8, \"Mai\":9, 'Lan':10,'Anh':10}\n",
    "scores"
   ]
  },
  {
   "cell_type": "code",
   "execution_count": 5,
   "id": "b4b25fc2",
   "metadata": {},
   "outputs": [],
   "source": [
    "scores = {('Lan','Hoa'):8, \"Mai\":9, 'Lan':10,'Anh':10}"
   ]
  },
  {
   "cell_type": "code",
   "execution_count": 6,
   "id": "db7b6c04",
   "metadata": {},
   "outputs": [
    {
     "data": {
      "text/plain": [
       "10"
      ]
     },
     "execution_count": 6,
     "metadata": {},
     "output_type": "execute_result"
    }
   ],
   "source": [
    "scores['Lan']"
   ]
  },
  {
   "cell_type": "code",
   "execution_count": 7,
   "id": "d3279898",
   "metadata": {},
   "outputs": [
    {
     "data": {
      "text/plain": [
       "{('Lan', 'Hoa'): 8, 'Mai': 9, 'Lan': 9, 'Anh': 10}"
      ]
     },
     "execution_count": 7,
     "metadata": {},
     "output_type": "execute_result"
    }
   ],
   "source": [
    "scores['Lan'] = 9\n",
    "scores"
   ]
  },
  {
   "cell_type": "code",
   "execution_count": 8,
   "id": "c9cc1bc7",
   "metadata": {},
   "outputs": [
    {
     "data": {
      "text/plain": [
       "{('Lan', 'Hoa'): 8, 'Mai': 9, 'Lan': 9, 'Anh': 10, 'Hung': 7}"
      ]
     },
     "execution_count": 8,
     "metadata": {},
     "output_type": "execute_result"
    }
   ],
   "source": [
    "scores['Hung'] = 7\n",
    "scores"
   ]
  },
  {
   "cell_type": "code",
   "execution_count": 10,
   "id": "97408897",
   "metadata": {},
   "outputs": [
    {
     "data": {
      "text/plain": [
       "{'Mai': 9, 'Lan': 9, 'Anh': 10, 'Hung': 7}"
      ]
     },
     "execution_count": 10,
     "metadata": {},
     "output_type": "execute_result"
    }
   ],
   "source": [
    "del scores[('Lan', 'Hoa')]\n",
    "scores"
   ]
  },
  {
   "cell_type": "code",
   "execution_count": 12,
   "id": "34fcc987",
   "metadata": {},
   "outputs": [
    {
     "data": {
      "text/plain": [
       "{'Mai': 9, 'Lan': 9, 'Anh': 10, 'Hung': 7}"
      ]
     },
     "execution_count": 12,
     "metadata": {},
     "output_type": "execute_result"
    }
   ],
   "source": [
    "scores"
   ]
  },
  {
   "cell_type": "code",
   "execution_count": 13,
   "id": "35bd1f5a",
   "metadata": {},
   "outputs": [
    {
     "ename": "KeyError",
     "evalue": "'Hoang'",
     "output_type": "error",
     "traceback": [
      "\u001b[1;31m---------------------------------------------------------------------------\u001b[0m",
      "\u001b[1;31mKeyError\u001b[0m                                  Traceback (most recent call last)",
      "Cell \u001b[1;32mIn[13], line 1\u001b[0m\n\u001b[1;32m----> 1\u001b[0m \u001b[43mscores\u001b[49m\u001b[43m[\u001b[49m\u001b[38;5;124;43m'\u001b[39;49m\u001b[38;5;124;43mHoang\u001b[39;49m\u001b[38;5;124;43m'\u001b[39;49m\u001b[43m]\u001b[49m\n",
      "\u001b[1;31mKeyError\u001b[0m: 'Hoang'"
     ]
    }
   ],
   "source": [
    "scores['Hoang']"
   ]
  },
  {
   "cell_type": "code",
   "execution_count": 15,
   "id": "ddcdcf6a",
   "metadata": {},
   "outputs": [
    {
     "data": {
      "text/plain": [
       "'No key'"
      ]
     },
     "execution_count": 15,
     "metadata": {},
     "output_type": "execute_result"
    }
   ],
   "source": [
    "scores.get('Hoang','No key')"
   ]
  },
  {
   "cell_type": "code",
   "execution_count": null,
   "id": "75167927",
   "metadata": {},
   "outputs": [],
   "source": []
  }
 ],
 "metadata": {
  "kernelspec": {
   "display_name": "env-teaching",
   "language": "python",
   "name": "python3"
  },
  "language_info": {
   "codemirror_mode": {
    "name": "ipython",
    "version": 3
   },
   "file_extension": ".py",
   "mimetype": "text/x-python",
   "name": "python",
   "nbconvert_exporter": "python",
   "pygments_lexer": "ipython3",
   "version": "3.11.7"
  }
 },
 "nbformat": 4,
 "nbformat_minor": 5
}
