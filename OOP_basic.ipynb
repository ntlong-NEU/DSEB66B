{
 "cells": [
  {
   "cell_type": "markdown",
   "metadata": {},
   "source": [
    "# **OOP in Python: From Simple to Complex**"
   ]
  },
  {
   "cell_type": "markdown",
   "metadata": {},
   "source": [
    "## **Part 1: Why Do We Need OOP? (Warm-up)**\n",
    "\n",
    "Before diving into definitions, let's consider a problem.\n",
    "\n",
    "**Problem:** Imagine you are programming a game. You need to manage 100 \"monsters\". Each monster has a **name**, **health points** (HP), and an **attack** action.\n",
    "\n",
    "* **Procedural Approach:**\n",
    "  You could use lists:\n",
    "  `monster_names = [\"Goblin\", \"Orc\", ...]`\n",
    "  `monster_hp = [100, 200, ...]`\n",
    "  `def monster_attack(index): ...`\n",
    "\n",
    "* **Drawback:** Data (name, hp) and behavior (attack) are **separate**. It's very difficult to manage when the 50th monster is defeated (you have to remove its name and hp from the correct positions in multiple lists).\n",
    "\n",
    "**OOP Solution:** \"Let's bundle everything related to a 'monster' into a single 'package'.\""
   ]
  },
  {
   "cell_type": "markdown",
   "metadata": {},
   "source": [
    "## **Part 2: The First Building Blocks — Class and Object**\n",
    "\n",
    "These are the two most **fundamental concepts** and the starting point of OOP."
   ]
  },
  {
   "cell_type": "markdown",
   "metadata": {},
   "source": [
    "### **1. Class: The Blueprint**\n",
    "\n",
    "* **Description:** A class is a **blueprint** for creating the \"packages\" we mentioned earlier. It defines what a \"monster\" *looks like* (what attributes it has) and what it can *do* (what methods it has).\n",
    "\n",
    "* **Example:** Let's create a `Monster` blueprint."
   ]
  },
  {
   "cell_type": "code",
   "execution_count": 22,
   "metadata": {},
   "outputs": [],
   "source": [
    "class Monster:\n",
    "  # This is a special method (the constructor)\n",
    "  # It's called every time a NEW object is created\n",
    "  def __init__(self, name, hp):\n",
    "    # These are INSTANCE variables, unique to each monster\n",
    "    self.name = name\n",
    "    self.hp = hp\n",
    "    print(f\"A {self.name} has just appeared!\")\n",
    "\n",
    "  # This is an INSTANCE method\n",
    "  def attack(self):\n",
    "    print(f\"{self.name} is attacking!\")"
   ]
  },
  {
   "cell_type": "markdown",
   "metadata": {},
   "source": [
    "### **2. Object: The Actual Product**\n",
    "\n",
    "* **Description:** An object is a **concrete instance** created from a class (the blueprint). If `Monster` is the blueprint, then a specific \"Goblin\" and \"Orc\" are the actual monster objects created from that blueprint.\n",
    "\n",
    "* **Example:**"
   ]
  },
  {
   "cell_type": "code",
   "execution_count": 23,
   "metadata": {},
   "outputs": [
    {
     "name": "stdout",
     "output_type": "stream",
     "text": [
      "A Goblin has just appeared!\n",
      "A Orc has just appeared!\n",
      "Goblin\n",
      "Orc is attacking!\n"
     ]
    }
   ],
   "source": [
    "# Create 2 Monster objects from the Monster class\n",
    "monster1 = Monster(\"Goblin\", 100)\n",
    "monster2 = Monster(\"Orc\", 200)\n",
    "\n",
    "# Access attributes and call methods\n",
    "print(monster1.name)\n",
    "monster2.attack()"
   ]
  },
  {
   "cell_type": "markdown",
   "metadata": {},
   "source": [
    "## **Part 3: Shared Data — Class Variables**\n",
    "\n",
    "**Problem:** How do we keep track of the total number of monsters created? An instance variable (`self.hp`) is unique to each monster, so it can't be used to store a shared count.\n",
    "\n",
    "* **Description (Class Variable):** A class variable is shared by all instances (objects) of a class. It belongs to the class itself, not to any specific object. \n",
    "\n",
    "* **How to do it:** Define the variable directly inside the class, but outside of any method."
   ]
  },
  {
   "cell_type": "code",
   "execution_count": 24,
   "metadata": {},
   "outputs": [
    {
     "name": "stdout",
     "output_type": "stream",
     "text": [
      "Initial monster count: 0\n",
      "A Goblin has appeared! Total monsters: 1\n",
      "A Orc has appeared! Total monsters: 2\n",
      "Final monster count: 2\n"
     ]
    }
   ],
   "source": [
    "class Monster:\n",
    "  # This is a CLASS variable. It's shared by all Monster objects.\n",
    "  monster_count = 0\n",
    "\n",
    "  def __init__(self, name, hp):\n",
    "    self.name = name\n",
    "    self.hp = hp\n",
    "    # We access the class variable using the class name\n",
    "    Monster.monster_count += 1\n",
    "    print(f\"A {self.name} has appeared! Total monsters: {Monster.monster_count}\")\n",
    "\n",
    "  def attack(self):\n",
    "    print(f\"{self.name} is attacking!\")\n",
    "\n",
    "# --- Usage ---\n",
    "print(f\"Initial monster count: {Monster.monster_count}\")\n",
    "monster1 = Monster(\"Goblin\", 100)\n",
    "monster2 = Monster(\"Orc\", 200)\n",
    "print(f\"Final monster count: {Monster.monster_count}\")"
   ]
  },
  {
   "cell_type": "markdown",
   "metadata": {},
   "source": [
    "## **Part 4: Making Classes Secure — Encapsulation**\n",
    "\n",
    "**Problem:** With the code above, anyone can do this:\n",
    "`monster1.hp = -999`\n",
    "This is nonsensical! Health can't be a negative number. We need to **protect** the data inside the object.\n",
    "\n",
    "* **Description (Encapsulation):** This is the practice of bundling data (attributes) and the methods that operate on that data together, while **hiding** the internal details. We only provide safe, public methods to interact with the object's data.\n",
    "\n",
    "* **How to do it:** Use a `__` (double underscore) prefix to make an attribute *private*."
   ]
  },
  {
   "cell_type": "code",
   "execution_count": 25,
   "metadata": {},
   "outputs": [
    {
     "name": "stdout",
     "output_type": "stream",
     "text": [
      "Balance: $100\n",
      "Successfully deposited $50.\n",
      "Balance: $150\n"
     ]
    }
   ],
   "source": [
    "class BankAccount:\n",
    "  def __init__(self, owner, balance=0):\n",
    "    self.owner = owner\n",
    "    self.__balance = balance # __balance is private (hidden)\n",
    "\n",
    "  # Public method (getter) to VIEW the balance\n",
    "  def get_balance(self):\n",
    "    return f\"Balance: ${self.__balance}\"\n",
    "\n",
    "  # Public method (setter) to DEPOSIT money\n",
    "  def deposit(self, amount):\n",
    "    if amount > 0:\n",
    "      self.__balance += amount\n",
    "      print(f\"Successfully deposited ${amount}.\")\n",
    "    else:\n",
    "      print(\"Deposit amount must be greater than 0\")\n",
    "\n",
    "account = BankAccount(\"Alice\", 100)\n",
    "\n",
    "# You CANNOT access it directly\n",
    "# print(account.__balance) # This will raise an AttributeError!\n",
    "\n",
    "# You MUST use the public methods\n",
    "print(account.get_balance())\n",
    "account.deposit(50)\n",
    "print(account.get_balance())"
   ]
  },
  {
   "cell_type": "markdown",
   "metadata": {},
   "source": [
    "## **Part 5: Extending and Reusing — Inheritance**\n",
    "\n",
    "**Problem:** We have a generic `Monster` class. Now we want to create a more specific `Dragon` class. A `Dragon` also has a **name** and **hp**, but it also has a new attribute, **fire_power**. How can we initialize the common attributes (`name`, `hp`) without rewriting the code from the `Monster`'s `__init__` method?\n",
    "\n",
    "* **Description (Inheritance):** Allows a new class (subclass) to **inherit** attributes and methods from an existing class (superclass). It models an **\"is a\"** relationship (e.g., a `Dragon` **is a** `Monster`).\n",
    "\n",
    "* **Introducing `super()`:** The `super()` function is a powerful tool in inheritance. It allows you to call methods from the parent class. This is especially useful for extending the parent's `__init__` or other methods without completely overwriting them.\n",
    "\n",
    "* **Benefit:** Code reuse and logical extension of functionality."
   ]
  },
  {
   "cell_type": "code",
   "execution_count": 26,
   "metadata": {},
   "outputs": [
    {
     "name": "stdout",
     "output_type": "stream",
     "text": [
      "Smaug (Parent) initialized.\n",
      "Dragon (Child) specific initialization done.\n",
      "-----\n",
      "Smaug performs a basic attack.\n",
      "...and breathes fire with 99 power!\n"
     ]
    }
   ],
   "source": [
    "class Monster: # Parent class\n",
    "  def __init__(self, name, hp):\n",
    "    self.name = name\n",
    "    self.hp = hp\n",
    "    print(f\"{self.name} (Parent) initialized.\")\n",
    "\n",
    "  def attack(self):\n",
    "    return f\"{self.name} performs a basic attack.\"\n",
    "\n",
    "class Dragon(Monster): # Child class (Dragon inherits from Monster)\n",
    "  def __init__(self, name, hp, fire_power):\n",
    "    # Use super() to call the __init__ of the parent (Monster) class\n",
    "    # This handles the initialization of 'name' and 'hp'\n",
    "    super().__init__(name, hp)\n",
    "    \n",
    "    # Add the new attribute specific to Dragon\n",
    "    self.fire_power = fire_power\n",
    "    print(f\"Dragon (Child) specific initialization done.\")\n",
    "\n",
    "  # This method OVERRIDES the parent's attack method\n",
    "  def attack(self):\n",
    "    # But we can still use super() to include the parent's logic\n",
    "    basic_attack_info = super().attack()\n",
    "    return f\"{basic_attack_info}\\n...and breathes fire with {self.fire_power} power!\"\n",
    "\n",
    "# --- Usage ---\n",
    "my_dragon = Dragon(\"Smaug\", 500, 99)\n",
    "print(\"-----\")\n",
    "print(my_dragon.attack())"
   ]
  },
  {
   "cell_type": "markdown",
   "metadata": {},
   "source": [
    "## **Part 6: Building with Blocks — Composition**\n",
    "\n",
    "**Problem:** A `Monster` needs a weapon. Should we create `MonsterWithSword` and `MonsterWithAxe` classes that inherit from `Monster`? This could lead to a class explosion if we have many weapons.\n",
    "\n",
    "* **Description (Composition):** Instead of an \"is a\" relationship, composition models a **\"has a\"** relationship. A complex object is *composed* of other objects. For example, a `Monster` **has a** `Weapon`.\n",
    "\n",
    "* **Benefit:** More flexible than inheritance. You can easily swap out components."
   ]
  },
  {
   "cell_type": "code",
   "execution_count": 27,
   "metadata": {},
   "outputs": [
    {
     "name": "stdout",
     "output_type": "stream",
     "text": [
      "Goblin attacks by using Sword, dealing 15 damage!\n",
      "Orc attacks by using Axe, dealing 20 damage!\n"
     ]
    }
   ],
   "source": [
    "class Weapon:\n",
    "    def __init__(self, name, damage):\n",
    "        self.name = name\n",
    "        self.damage = damage\n",
    "    \n",
    "    def use(self):\n",
    "        return f\"using {self.name}, dealing {self.damage} damage!\"\n",
    "\n",
    "class Monster:\n",
    "    def __init__(self, name, hp, weapon):\n",
    "        self.name = name\n",
    "        self.hp = hp\n",
    "        self.weapon = weapon # The monster HAS A weapon object\n",
    "\n",
    "    def attack(self):\n",
    "        # The monster delegates the attack action to its weapon\n",
    "        action_description = self.weapon.use()\n",
    "        print(f\"{self.name} attacks by {action_description}\")\n",
    "\n",
    "# --- Usage ---\n",
    "# First, create the component objects\n",
    "sword = Weapon(\"Sword\", 15)\n",
    "axe = Weapon(\"Axe\", 20)\n",
    "\n",
    "# Then, create the composite objects\n",
    "goblin = Monster(\"Goblin\", 100, sword)\n",
    "orc = Monster(\"Orc\", 200, axe)\n",
    "\n",
    "goblin.attack()\n",
    "orc.attack()"
   ]
  },
  {
   "cell_type": "markdown",
   "metadata": {},
   "source": [
    "## **Part 7: \"One Name, Many Actions\" — Polymorphism**\n",
    "\n",
    "**Problem:** From the example above, we have `Dog` and `Cat`. Both can \"make a sound,\" but they use different methods (`bark()` and `meow()`). It would be better if we could call a common method, like `speak()`, and each animal would know how to respond correctly.\n",
    "\n",
    "* **Description (Polymorphism):** \"Poly\" means \"many,\" and \"morph\" means \"form.\" Polymorphism allows objects of different classes to respond to the **same method call** in their own unique ways."
   ]
  },
  {
   "cell_type": "code",
   "execution_count": 28,
   "metadata": {},
   "outputs": [
    {
     "name": "stdout",
     "output_type": "stream",
     "text": [
      "Buddy says Woof!\n",
      "Whiskers says Meow!\n"
     ]
    }
   ],
   "source": [
    "class Animal:\n",
    "  def __init__(self, name): self.name = name\n",
    "  def eat(self): return f\"{self.name} is eating.\"\n",
    "  def speak(self): # Common method\n",
    "    raise NotImplementedError(\"Subclass must implement this method\")\n",
    "\n",
    "class Dog(Animal):\n",
    "  def speak(self): # Override the speak method\n",
    "    return f\"{self.name} says Woof!\"\n",
    "\n",
    "class Cat(Animal):\n",
    "  def speak(self): # Override the speak method\n",
    "    return f\"{self.name} says Meow!\"\n",
    "\n",
    "# --- Usage ---\n",
    "my_dog = Dog(\"Buddy\")\n",
    "my_cat = Cat(\"Whiskers\")\n",
    "\n",
    "animals = [my_dog, my_cat]\n",
    "\n",
    "# This loop demonstrates polymorphism:\n",
    "# The same .speak() call produces different results\n",
    "for animal in animals:\n",
    "  print(animal.speak())"
   ]
  },
  {
   "cell_type": "markdown",
   "metadata": {},
   "source": [
    "## **Part 8: \"The Design Contract\" — Abstraction**\n",
    "\n",
    "This is the most complex concept; it's a design tool.\n",
    "\n",
    "**Problem:** In the Polymorphism example, we created an `Animal` class with a `speak()` method. But what if another programmer creates a `Bird(Animal)` class and... **forgets** to define the `speak()` method? The program would fail unexpectedly.\n",
    "\n",
    "* **Description (Abstraction):** Provides a \"template\" or \"contract\" (an abstract class) that **forces** subclasses to follow a specific structure. It hides implementation details and only exposes the required behaviors.\n",
    "\n",
    "* **How to do it:** Use Python's `ABC` (Abstract Base Class) module."
   ]
  },
  {
   "cell_type": "code",
   "execution_count": 29,
   "metadata": {},
   "outputs": [
    {
     "name": "stdout",
     "output_type": "stream",
     "text": [
      "Car is running on an engine...\n",
      "Bicycle is being pedaled...\n"
     ]
    }
   ],
   "source": [
    "from abc import ABC, abstractmethod\n",
    "\n",
    "class Vehicle(ABC): # This is an Abstract Class\n",
    "\n",
    "  @abstractmethod # Marks this as a REQUIRED method\n",
    "  def drive(self):\n",
    "    pass # No code in the parent class\n",
    "\n",
    "  def honk(self): # This is a normal, optional method\n",
    "    print(\"Beep Beep!\")\n",
    "\n",
    "class Car(Vehicle):\n",
    "  def drive(self): # The Car class MUST have this method\n",
    "    print(\"Car is running on an engine...\")\n",
    "\n",
    "class Bicycle(Vehicle):\n",
    "  def drive(self): # The Bicycle class MUST have this method\n",
    "    print(\"Bicycle is being pedaled...\")\n",
    "\n",
    "# --- Usage ---\n",
    "my_car = Car()\n",
    "my_bike = Bicycle()\n",
    "my_car.drive()\n",
    "my_bike.drive()\n",
    "\n",
    "# If you try to create a class without the 'drive' method:\n",
    "# class Motorbike(Vehicle):\n",
    "#   def wheelie(self):\n",
    "#     print(\"Doing a wheelie!\")\n",
    "\n",
    "# m = Motorbike() # This line will RAISE AN ERROR IMMEDIATELY\n",
    "# Error: Can't instantiate abstract class Motorbike\n",
    "#      with abstract method drive"
   ]
  },
  {
   "cell_type": "markdown",
   "metadata": {},
   "source": [
    "## **Summary**\n",
    "\n",
    "* **Class & Object:** Create the \"blueprint\" and the \"product.\"\n",
    "\n",
    "* **Class Variable:** Data shared by all \"products\" of a blueprint.\n",
    "\n",
    "* **Encapsulation:** Protect the data inside the \"product\" (using `__`).\n",
    "\n",
    "* **Inheritance:** An \"is-a\" relationship. Create new \"products\" based on old ones.\n",
    "\n",
    "* **Composition:** A \"has-a\" relationship. Build a \"product\" using other \"products\" as components.\n",
    "\n",
    "* **Polymorphism:** Many different \"products\" perform the same action (`.speak()`) in their own way.\n",
    "\n",
    "* **Abstraction:** Create a \"contract\" that defines what child \"blueprints\" must do."
   ]
  }
 ],
 "metadata": {
  "kernelspec": {
   "display_name": "env-teaching",
   "language": "python",
   "name": "python3"
  },
  "language_info": {
   "codemirror_mode": {
    "name": "ipython",
    "version": 3
   },
   "file_extension": ".py",
   "mimetype": "text/x-python",
   "name": "python",
   "nbconvert_exporter": "python",
   "pygments_lexer": "ipython3",
   "version": "3.11.7"
  }
 },
 "nbformat": 4,
 "nbformat_minor": 2
}
