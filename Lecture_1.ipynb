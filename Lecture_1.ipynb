{
 "cells": [
  {
   "cell_type": "markdown",
   "id": "3404b6e7",
   "metadata": {},
   "source": [
    "## **Lecture_1: Getting started with jupyter notebook**"
   ]
  },
  {
   "cell_type": "code",
   "execution_count": 1,
   "id": "c7a13597",
   "metadata": {},
   "outputs": [
    {
     "name": "stdout",
     "output_type": "stream",
     "text": [
      "Hello DSEB66B\n"
     ]
    }
   ],
   "source": [
    "print(\"Hello DSEB66B\")"
   ]
  },
  {
   "cell_type": "code",
   "execution_count": null,
   "id": "eed0530a",
   "metadata": {},
   "outputs": [],
   "source": []
  }
 ],
 "metadata": {
  "kernelspec": {
   "display_name": "env-teaching",
   "language": "python",
   "name": "python3"
  },
  "language_info": {
   "codemirror_mode": {
    "name": "ipython",
    "version": 3
   },
   "file_extension": ".py",
   "mimetype": "text/x-python",
   "name": "python",
   "nbconvert_exporter": "python",
   "pygments_lexer": "ipython3",
   "version": "3.11.7"
  }
 },
 "nbformat": 4,
 "nbformat_minor": 5
}
