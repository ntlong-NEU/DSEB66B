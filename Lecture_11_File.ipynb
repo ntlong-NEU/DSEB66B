{
 "cells": [
  {
   "cell_type": "markdown",
   "id": "0e93c269",
   "metadata": {},
   "source": [
    "## Lecture 11: File"
   ]
  },
  {
   "cell_type": "code",
   "execution_count": 1,
   "id": "9cc02a91",
   "metadata": {},
   "outputs": [],
   "source": [
    "path_abs = r'D:\\CODE\\Python4DS\\DSEB66B\\Data\\text_file\\pi_digits.txt'\n",
    "path_rela = r'Data\\text_file\\pi_digits.txt'"
   ]
  },
  {
   "cell_type": "code",
   "execution_count": 7,
   "id": "9f5a1b2a",
   "metadata": {},
   "outputs": [
    {
     "name": "stdout",
     "output_type": "stream",
     "text": [
      "3.1415926535 \n",
      "  8979323846 \n",
      "  2643383279\n",
      "\n"
     ]
    }
   ],
   "source": [
    "with open(path_abs) as file:\n",
    "    pi = file.read()\n",
    "\n",
    "print(pi)"
   ]
  },
  {
   "cell_type": "code",
   "execution_count": 8,
   "id": "9aad0520",
   "metadata": {},
   "outputs": [
    {
     "name": "stdout",
     "output_type": "stream",
     "text": [
      "3.1415926535 \n",
      "  8979323846 \n",
      "  2643383279\n",
      "\n"
     ]
    }
   ],
   "source": [
    "with open(path_rela) as f:\n",
    "    pi1 = f.read()\n",
    "\n",
    "print(pi1)"
   ]
  },
  {
   "cell_type": "code",
   "execution_count": null,
   "id": "1e9ff3d1",
   "metadata": {},
   "outputs": [],
   "source": []
  }
 ],
 "metadata": {
  "kernelspec": {
   "display_name": "env-teaching",
   "language": "python",
   "name": "python3"
  },
  "language_info": {
   "codemirror_mode": {
    "name": "ipython",
    "version": 3
   },
   "file_extension": ".py",
   "mimetype": "text/x-python",
   "name": "python",
   "nbconvert_exporter": "python",
   "pygments_lexer": "ipython3",
   "version": "3.11.7"
  }
 },
 "nbformat": 4,
 "nbformat_minor": 5
}
