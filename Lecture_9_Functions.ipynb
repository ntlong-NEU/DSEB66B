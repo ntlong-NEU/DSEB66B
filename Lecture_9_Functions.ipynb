{
 "cells": [
  {
   "cell_type": "markdown",
   "id": "10069997",
   "metadata": {},
   "source": [
    "# Lecture 9: Functions"
   ]
  },
  {
   "cell_type": "code",
   "execution_count": 26,
   "id": "e7ffc62b",
   "metadata": {},
   "outputs": [],
   "source": [
    "def greet_user(name:str)->None:\n",
    "    '''docstring'''\n",
    "    print(f\"Well come {name.title()} to our page!\")"
   ]
  },
  {
   "cell_type": "code",
   "execution_count": 27,
   "id": "cdf1e63c",
   "metadata": {},
   "outputs": [
    {
     "name": "stdout",
     "output_type": "stream",
     "text": [
      "Well come Mai to our page!\n"
     ]
    }
   ],
   "source": [
    "greet_user('mai')"
   ]
  },
  {
   "cell_type": "code",
   "execution_count": 28,
   "id": "f8dc1c40",
   "metadata": {},
   "outputs": [],
   "source": [
    "def describe_pet(animal_type:str, pet_name:str)->None:\n",
    "    '''describe your pet'''\n",
    "    print(f'My {animal_type} is {pet_name}.')"
   ]
  },
  {
   "cell_type": "code",
   "execution_count": 29,
   "id": "5854d8d6",
   "metadata": {},
   "outputs": [
    {
     "name": "stdout",
     "output_type": "stream",
     "text": [
      "My dog is Xoai.\n"
     ]
    }
   ],
   "source": [
    "describe_pet('dog','Xoai')"
   ]
  },
  {
   "cell_type": "code",
   "execution_count": 30,
   "id": "22b140bb",
   "metadata": {},
   "outputs": [
    {
     "name": "stdout",
     "output_type": "stream",
     "text": [
      "My Xoai is dog.\n"
     ]
    }
   ],
   "source": [
    "describe_pet('Xoai','dog')"
   ]
  },
  {
   "cell_type": "code",
   "execution_count": 31,
   "id": "020553c0",
   "metadata": {},
   "outputs": [],
   "source": [
    "def describe_pet_c(animal_type:str, pet_name:str, color = 'white')->None:\n",
    "    '''describe your pet'''\n",
    "    print(f'My {animal_type} is {pet_name} and its color is {color}.')"
   ]
  },
  {
   "cell_type": "code",
   "execution_count": 32,
   "id": "fc0d7124",
   "metadata": {},
   "outputs": [
    {
     "name": "stdout",
     "output_type": "stream",
     "text": [
      "My cat is coca and its color is white.\n"
     ]
    }
   ],
   "source": [
    "describe_pet_c(animal_type='cat',pet_name='coca')"
   ]
  },
  {
   "cell_type": "code",
   "execution_count": 33,
   "id": "5d9b5f6c",
   "metadata": {},
   "outputs": [
    {
     "name": "stdout",
     "output_type": "stream",
     "text": [
      "My cat is coca and its color is black.\n"
     ]
    }
   ],
   "source": [
    "x = describe_pet_c(animal_type='cat',pet_name='coca', color='black')"
   ]
  },
  {
   "cell_type": "code",
   "execution_count": 34,
   "id": "f9e03d99",
   "metadata": {},
   "outputs": [
    {
     "name": "stdout",
     "output_type": "stream",
     "text": [
      "None\n"
     ]
    }
   ],
   "source": [
    "print(x)"
   ]
  },
  {
   "cell_type": "code",
   "execution_count": 35,
   "id": "53245203",
   "metadata": {},
   "outputs": [],
   "source": [
    "def my_func(x:int, y:float)->float:\n",
    "    '''docstring''' \n",
    "    return x*y+2\n",
    "    print('the end')\n"
   ]
  },
  {
   "cell_type": "code",
   "execution_count": 36,
   "id": "31f3c307",
   "metadata": {},
   "outputs": [
    {
     "data": {
      "text/plain": [
       "10"
      ]
     },
     "execution_count": 36,
     "metadata": {},
     "output_type": "execute_result"
    }
   ],
   "source": [
    "my_func(2,4)"
   ]
  },
  {
   "cell_type": "code",
   "execution_count": 37,
   "id": "66101d25",
   "metadata": {},
   "outputs": [],
   "source": [
    "def is_prime(n:int)->bool:\n",
    "    '''check prime'''\n",
    "    if n<=1:\n",
    "        return False\n",
    "    else:\n",
    "        for d in range(2, int(n**0.5)+1):\n",
    "            if n%d==0:\n",
    "                return False\n",
    "    return True "
   ]
  },
  {
   "cell_type": "code",
   "execution_count": 38,
   "id": "252c4504",
   "metadata": {},
   "outputs": [
    {
     "data": {
      "text/plain": [
       "True"
      ]
     },
     "execution_count": 38,
     "metadata": {},
     "output_type": "execute_result"
    }
   ],
   "source": [
    "is_prime(17)"
   ]
  },
  {
   "cell_type": "code",
   "execution_count": 39,
   "id": "08419f59",
   "metadata": {},
   "outputs": [
    {
     "data": {
      "text/plain": [
       "False"
      ]
     },
     "execution_count": 39,
     "metadata": {},
     "output_type": "execute_result"
    }
   ],
   "source": [
    "is_prime(32424)"
   ]
  },
  {
   "cell_type": "code",
   "execution_count": 40,
   "id": "d111d2ad",
   "metadata": {},
   "outputs": [],
   "source": [
    "import this "
   ]
  },
  {
   "cell_type": "code",
   "execution_count": 41,
   "id": "dca3fd0a",
   "metadata": {},
   "outputs": [],
   "source": [
    "text = \"\"\"The Zen of Python, by Tim Peters\n",
    "\n",
    "Beautiful is better than ugly.\n",
    "Explicit is better than implicit.\n",
    "Simple is better than complex.\n",
    "Complex is better than complicated.\n",
    "Flat is better than nested.\n",
    "Sparse is better than dense.\n",
    "Readability counts.\n",
    "Special cases aren't special enough to break the rules.\n",
    "Although practicality beats purity.\n",
    "Errors should never pass silently.\n",
    "Unless explicitly silenced.\n",
    "In the face of ambiguity, refuse the temptation to guess.\n",
    "There should be one-- and preferably only one --obvious way to do it.\n",
    "Although that way may not be obvious at first unless you're Dutch.\n",
    "Now is better than never.\n",
    "Although never is often better than *right* now.\n",
    "If the implementation is hard to explain, it's a bad idea.\n",
    "If the implementation is easy to explain, it may be a good idea.\n",
    "Namespaces are one honking great idea -- let's do more of those!\"\"\""
   ]
  },
  {
   "cell_type": "code",
   "execution_count": 42,
   "id": "82e9fb61",
   "metadata": {},
   "outputs": [
    {
     "data": {
      "text/plain": [
       "['The',\n",
       " 'Zen',\n",
       " 'of',\n",
       " 'Python',\n",
       " 'by',\n",
       " 'Tim',\n",
       " 'Peters',\n",
       " 'Beautiful',\n",
       " 'is',\n",
       " 'better',\n",
       " 'than',\n",
       " 'ugly',\n",
       " 'Explicit',\n",
       " 'is',\n",
       " 'better',\n",
       " 'than',\n",
       " 'implicit',\n",
       " 'Simple',\n",
       " 'is',\n",
       " 'better',\n",
       " 'than',\n",
       " 'complex',\n",
       " 'Complex',\n",
       " 'is',\n",
       " 'better',\n",
       " 'than',\n",
       " 'complicated',\n",
       " 'Flat',\n",
       " 'is',\n",
       " 'better',\n",
       " 'than',\n",
       " 'nested',\n",
       " 'Sparse',\n",
       " 'is',\n",
       " 'better',\n",
       " 'than',\n",
       " 'dense',\n",
       " 'Readability',\n",
       " 'counts',\n",
       " 'Special',\n",
       " 'cases',\n",
       " 'aren',\n",
       " 't',\n",
       " 'special',\n",
       " 'enough',\n",
       " 'to',\n",
       " 'break',\n",
       " 'the',\n",
       " 'rules',\n",
       " 'Although',\n",
       " 'practicality',\n",
       " 'beats',\n",
       " 'purity',\n",
       " 'Errors',\n",
       " 'should',\n",
       " 'never',\n",
       " 'pass',\n",
       " 'silently',\n",
       " 'Unless',\n",
       " 'explicitly',\n",
       " 'silenced',\n",
       " 'In',\n",
       " 'the',\n",
       " 'face',\n",
       " 'of',\n",
       " 'ambiguity',\n",
       " 'refuse',\n",
       " 'the',\n",
       " 'temptation',\n",
       " 'to',\n",
       " 'guess',\n",
       " 'There',\n",
       " 'should',\n",
       " 'be',\n",
       " 'one',\n",
       " 'and',\n",
       " 'preferably',\n",
       " 'only',\n",
       " 'one',\n",
       " 'obvious',\n",
       " 'way',\n",
       " 'to',\n",
       " 'do',\n",
       " 'it',\n",
       " 'Although',\n",
       " 'that',\n",
       " 'way',\n",
       " 'may',\n",
       " 'not',\n",
       " 'be',\n",
       " 'obvious',\n",
       " 'at',\n",
       " 'first',\n",
       " 'unless',\n",
       " 'you',\n",
       " 're',\n",
       " 'Dutch',\n",
       " 'Now',\n",
       " 'is',\n",
       " 'better',\n",
       " 'than',\n",
       " 'never',\n",
       " 'Although',\n",
       " 'never',\n",
       " 'is',\n",
       " 'often',\n",
       " 'better',\n",
       " 'than',\n",
       " 'right',\n",
       " 'now',\n",
       " 'If',\n",
       " 'the',\n",
       " 'implementation',\n",
       " 'is',\n",
       " 'hard',\n",
       " 'to',\n",
       " 'explain',\n",
       " 'it',\n",
       " 's',\n",
       " 'a',\n",
       " 'bad',\n",
       " 'idea',\n",
       " 'If',\n",
       " 'the',\n",
       " 'implementation',\n",
       " 'is',\n",
       " 'easy',\n",
       " 'to',\n",
       " 'explain',\n",
       " 'it',\n",
       " 'may',\n",
       " 'be',\n",
       " 'a',\n",
       " 'good',\n",
       " 'idea',\n",
       " 'Namespaces',\n",
       " 'are',\n",
       " 'one',\n",
       " 'honking',\n",
       " 'great',\n",
       " 'idea',\n",
       " 'let',\n",
       " 's',\n",
       " 'do',\n",
       " 'more',\n",
       " 'of',\n",
       " 'those']"
      ]
     },
     "execution_count": 42,
     "metadata": {},
     "output_type": "execute_result"
    }
   ],
   "source": [
    "import re \n",
    "re.findall('\\w+',text)"
   ]
  },
  {
   "cell_type": "code",
   "execution_count": 43,
   "id": "cbd76586",
   "metadata": {},
   "outputs": [],
   "source": [
    "def normalize(text:str)->str:\n",
    "    \"Normalize\"\n",
    "    text_norm = text.lower()\n",
    "    special_chars = {'.',',','-','*','!','?'}\n",
    "    for char in special_chars:\n",
    "        text_norm = text_norm.replace(char,' ')\n",
    "    return text_norm \n",
    "        \n",
    "# Nguyen Tuan Long\n",
    "def get_fre_words(text: str, normal = True,  ascending = None)->dict:\n",
    "    \"\"\"get frequency each words in the text\"\"\"\n",
    "    if normal:\n",
    "        text = normalize(text)\n",
    "    fre_dict = {}\n",
    "    for w in text.split():\n",
    "        if w in fre_dict:\n",
    "            fre_dict[w] += 1\n",
    "        else:\n",
    "            fre_dict[w] = 1\n",
    "    return fre_dict"
   ]
  },
  {
   "cell_type": "code",
   "execution_count": 44,
   "id": "aab95039",
   "metadata": {},
   "outputs": [
    {
     "data": {
      "text/plain": [
       "{'the': 6,\n",
       " 'zen': 1,\n",
       " 'of': 3,\n",
       " 'python': 1,\n",
       " 'by': 1,\n",
       " 'tim': 1,\n",
       " 'peters': 1,\n",
       " 'beautiful': 1,\n",
       " 'is': 10,\n",
       " 'better': 8,\n",
       " 'than': 8,\n",
       " 'ugly': 1,\n",
       " 'explicit': 1,\n",
       " 'implicit': 1,\n",
       " 'simple': 1,\n",
       " 'complex': 2,\n",
       " 'complicated': 1,\n",
       " 'flat': 1,\n",
       " 'nested': 1,\n",
       " 'sparse': 1,\n",
       " 'dense': 1,\n",
       " 'readability': 1,\n",
       " 'counts': 1,\n",
       " 'special': 2,\n",
       " 'cases': 1,\n",
       " \"aren't\": 1,\n",
       " 'enough': 1,\n",
       " 'to': 5,\n",
       " 'break': 1,\n",
       " 'rules': 1,\n",
       " 'although': 3,\n",
       " 'practicality': 1,\n",
       " 'beats': 1,\n",
       " 'purity': 1,\n",
       " 'errors': 1,\n",
       " 'should': 2,\n",
       " 'never': 3,\n",
       " 'pass': 1,\n",
       " 'silently': 1,\n",
       " 'unless': 2,\n",
       " 'explicitly': 1,\n",
       " 'silenced': 1,\n",
       " 'in': 1,\n",
       " 'face': 1,\n",
       " 'ambiguity': 1,\n",
       " 'refuse': 1,\n",
       " 'temptation': 1,\n",
       " 'guess': 1,\n",
       " 'there': 1,\n",
       " 'be': 3,\n",
       " 'one': 3,\n",
       " 'and': 1,\n",
       " 'preferably': 1,\n",
       " 'only': 1,\n",
       " 'obvious': 2,\n",
       " 'way': 2,\n",
       " 'do': 2,\n",
       " 'it': 2,\n",
       " 'that': 1,\n",
       " 'may': 2,\n",
       " 'not': 1,\n",
       " 'at': 1,\n",
       " 'first': 1,\n",
       " \"you're\": 1,\n",
       " 'dutch': 1,\n",
       " 'now': 2,\n",
       " 'often': 1,\n",
       " 'right': 1,\n",
       " 'if': 2,\n",
       " 'implementation': 2,\n",
       " 'hard': 1,\n",
       " 'explain': 2,\n",
       " \"it's\": 1,\n",
       " 'a': 2,\n",
       " 'bad': 1,\n",
       " 'idea': 3,\n",
       " 'easy': 1,\n",
       " 'good': 1,\n",
       " 'namespaces': 1,\n",
       " 'are': 1,\n",
       " 'honking': 1,\n",
       " 'great': 1,\n",
       " \"let's\": 1,\n",
       " 'more': 1,\n",
       " 'those': 1}"
      ]
     },
     "execution_count": 44,
     "metadata": {},
     "output_type": "execute_result"
    }
   ],
   "source": [
    "get_fre_words(text)"
   ]
  },
  {
   "cell_type": "code",
   "execution_count": 45,
   "id": "625f0e7d",
   "metadata": {},
   "outputs": [],
   "source": [
    "def print_models(unprinted:list, printed:list)->None:\n",
    "    '''3d print a set of models'''\n",
    "    while unprinted:\n",
    "        current_model = unprinted.pop()\n",
    "        print(f'printing {current_model}')\n",
    "        printed.append(current_model)\n"
   ]
  },
  {
   "cell_type": "code",
   "execution_count": 48,
   "id": "1e5b3faf",
   "metadata": {},
   "outputs": [
    {
     "name": "stdout",
     "output_type": "stream",
     "text": [
      "['A', 'ab', 'c'] []\n",
      "printing c\n",
      "printing ab\n",
      "printing A\n",
      "[] ['c', 'ab', 'A']\n"
     ]
    }
   ],
   "source": [
    "un_printed = ['A','ab','c']\n",
    "printed = []\n",
    "print(un_printed, printed)\n",
    "print_models(un_printed, printed)\n",
    "print(un_printed, printed)"
   ]
  },
  {
   "cell_type": "code",
   "execution_count": 49,
   "id": "504ad7f1",
   "metadata": {},
   "outputs": [
    {
     "name": "stdout",
     "output_type": "stream",
     "text": [
      "The Zen of Python, by Tim Peters\n",
      "\n",
      "Beautiful is better than ugly.\n",
      "Explicit is better than implicit.\n",
      "Simple is better than complex.\n",
      "Complex is better than complicated.\n",
      "Flat is better than nested.\n",
      "Sparse is better than dense.\n",
      "Readability counts.\n",
      "Special cases aren't special enough to break the rules.\n",
      "Although practicality beats purity.\n",
      "Errors should never pass silently.\n",
      "Unless explicitly silenced.\n",
      "In the face of ambiguity, refuse the temptation to guess.\n",
      "There should be one-- and preferably only one --obvious way to do it.\n",
      "Although that way may not be obvious at first unless you're Dutch.\n",
      "Now is better than never.\n",
      "Although never is often better than *right* now.\n",
      "If the implementation is hard to explain, it's a bad idea.\n",
      "If the implementation is easy to explain, it may be a good idea.\n",
      "Namespaces are one honking great idea -- let's do more of those!\n"
     ]
    }
   ],
   "source": [
    "print(text)"
   ]
  },
  {
   "cell_type": "code",
   "execution_count": 50,
   "id": "1616bdbf",
   "metadata": {},
   "outputs": [
    {
     "name": "stdout",
     "output_type": "stream",
     "text": [
      "[1, 2, 3]\n"
     ]
    }
   ],
   "source": [
    "print([1,2,3])"
   ]
  },
  {
   "cell_type": "code",
   "execution_count": null,
   "id": "50f16e35",
   "metadata": {},
   "outputs": [
    {
     "name": "stdout",
     "output_type": "stream",
     "text": [
      "1 2 3\n"
     ]
    }
   ],
   "source": [
    "print(*[1,2,3])# unpack"
   ]
  },
  {
   "cell_type": "code",
   "execution_count": 52,
   "id": "e1d076e2",
   "metadata": {},
   "outputs": [],
   "source": [
    "def make_pizza(size:str, *toppings)->None:\n",
    "    \"\"\"Make a pizze\"\"\"\n",
    "    print(f'\\nMaking a {size} pizza')\n",
    "    print('Toppings')\n",
    "    for topping in toppings:\n",
    "        print(f'- {topping}')"
   ]
  },
  {
   "cell_type": "code",
   "execution_count": 53,
   "id": "4912621a",
   "metadata": {},
   "outputs": [
    {
     "name": "stdout",
     "output_type": "stream",
     "text": [
      "\n",
      "Making a s pizza\n",
      "Toppings\n",
      "- chicken\n",
      "- beef\n",
      "- A\n",
      "- B\n"
     ]
    }
   ],
   "source": [
    "make_pizza('s','chicken','beef','A','B')"
   ]
  },
  {
   "cell_type": "code",
   "execution_count": 54,
   "id": "dbbef048",
   "metadata": {},
   "outputs": [
    {
     "name": "stdout",
     "output_type": "stream",
     "text": [
      "\n",
      "Making a s pizza\n",
      "Toppings\n",
      "- chicken\n",
      "- B\n"
     ]
    }
   ],
   "source": [
    "make_pizza('s','chicken','B')"
   ]
  },
  {
   "cell_type": "code",
   "execution_count": 57,
   "id": "d4864d7a",
   "metadata": {},
   "outputs": [],
   "source": [
    "dict_1 = {'key1':1,'key2':2}"
   ]
  },
  {
   "cell_type": "code",
   "execution_count": 60,
   "id": "9e440bf3",
   "metadata": {},
   "outputs": [],
   "source": [
    "def build_profile(first:str, last:str, **user_info)->dict:\n",
    "    '''Build profile'''\n",
    "    user_info['first_name'] = first\n",
    "    user_info['last_name'] = last\n",
    "    return user_info"
   ]
  },
  {
   "cell_type": "code",
   "execution_count": 61,
   "id": "17083382",
   "metadata": {},
   "outputs": [
    {
     "data": {
      "text/plain": [
       "{'address': '206, Giai phong',\n",
       " 'degree': 'Dr',\n",
       " 'age': 44,\n",
       " 'first_name': 'Long',\n",
       " 'last_name': 'Nguye'}"
      ]
     },
     "execution_count": 61,
     "metadata": {},
     "output_type": "execute_result"
    }
   ],
   "source": [
    "build_profile('Long', \"Nguye\", address = '206, Giai phong', degree = 'Dr', age = 44)"
   ]
  },
  {
   "cell_type": "code",
   "execution_count": 63,
   "id": "7c390263",
   "metadata": {},
   "outputs": [
    {
     "data": {
      "text/plain": [
       "{'first_name': 'Long', 'last_name': 'Nguyễn'}"
      ]
     },
     "execution_count": 63,
     "metadata": {},
     "output_type": "execute_result"
    }
   ],
   "source": [
    "build_profile(first=\"Long\", last=\"Nguyễn\")"
   ]
  },
  {
   "cell_type": "code",
   "execution_count": 65,
   "id": "b92188db",
   "metadata": {},
   "outputs": [
    {
     "data": {
      "text/plain": [
       "{'key1': 1, 'key2': 2, 'first_name': 'Long', 'last_name': 'Nguyễn'}"
      ]
     },
     "execution_count": 65,
     "metadata": {},
     "output_type": "execute_result"
    }
   ],
   "source": [
    "build_profile('Long', \"Nguyễn\", **dict_1)"
   ]
  },
  {
   "cell_type": "code",
   "execution_count": 66,
   "id": "c916fb4c",
   "metadata": {},
   "outputs": [
    {
     "data": {
      "text/plain": [
       "{'key1': 1, 'key2': 2, 'first_name': 'Long', 'last_name': 'Nguyễn'}"
      ]
     },
     "execution_count": 66,
     "metadata": {},
     "output_type": "execute_result"
    }
   ],
   "source": [
    "build_profile('Long', \"Nguyễn\", key1 = 1, key2 = 2)"
   ]
  },
  {
   "cell_type": "code",
   "execution_count": 74,
   "id": "7df05e33",
   "metadata": {},
   "outputs": [],
   "source": [
    "def myfunc(para_1,  *args, para_2=1, **kwargs):\n",
    "    print('myfunc')"
   ]
  },
  {
   "cell_type": "code",
   "execution_count": 75,
   "id": "b9c534fa",
   "metadata": {},
   "outputs": [
    {
     "name": "stdout",
     "output_type": "stream",
     "text": [
      "myfunc\n"
     ]
    }
   ],
   "source": [
    "myfunc(1,2,3,2,2)"
   ]
  },
  {
   "cell_type": "code",
   "execution_count": 76,
   "id": "6461cb45",
   "metadata": {},
   "outputs": [],
   "source": [
    "def generate_numbers_1(n):\n",
    "    i = 0\n",
    "    while i<n:\n",
    "        yield i\n",
    "        i += 1\n",
    "\n",
    "def generate_numbers_2(n):\n",
    "    i = 0\n",
    "    while i<n:\n",
    "        return i\n",
    "        i += 1"
   ]
  },
  {
   "cell_type": "code",
   "execution_count": 79,
   "id": "1c75f336",
   "metadata": {},
   "outputs": [
    {
     "data": {
      "text/plain": [
       "generator"
      ]
     },
     "execution_count": 79,
     "metadata": {},
     "output_type": "execute_result"
    }
   ],
   "source": [
    "type(generate_numbers_1(5))"
   ]
  },
  {
   "cell_type": "code",
   "execution_count": 78,
   "id": "49d13b85",
   "metadata": {},
   "outputs": [
    {
     "data": {
      "text/plain": [
       "[0, 1, 2, 3, 4]"
      ]
     },
     "execution_count": 78,
     "metadata": {},
     "output_type": "execute_result"
    }
   ],
   "source": [
    "list(generate_numbers_1(5))"
   ]
  },
  {
   "cell_type": "code",
   "execution_count": 80,
   "id": "dc3d655d",
   "metadata": {},
   "outputs": [
    {
     "data": {
      "text/plain": [
       "0"
      ]
     },
     "execution_count": 80,
     "metadata": {},
     "output_type": "execute_result"
    }
   ],
   "source": [
    "generate_numbers_2(5)"
   ]
  },
  {
   "cell_type": "code",
   "execution_count": 81,
   "id": "58a7fdda",
   "metadata": {},
   "outputs": [],
   "source": [
    "f = lambda x: x**2+1"
   ]
  },
  {
   "cell_type": "code",
   "execution_count": 82,
   "id": "622c9615",
   "metadata": {},
   "outputs": [
    {
     "data": {
      "text/plain": [
       "5"
      ]
     },
     "execution_count": 82,
     "metadata": {},
     "output_type": "execute_result"
    }
   ],
   "source": [
    "f(2)"
   ]
  },
  {
   "cell_type": "code",
   "execution_count": 83,
   "id": "d495e0b6",
   "metadata": {},
   "outputs": [
    {
     "data": {
      "text/plain": [
       "function"
      ]
     },
     "execution_count": 83,
     "metadata": {},
     "output_type": "execute_result"
    }
   ],
   "source": [
    "type(f)"
   ]
  },
  {
   "cell_type": "code",
   "execution_count": null,
   "id": "7c7f205c",
   "metadata": {},
   "outputs": [],
   "source": []
  }
 ],
 "metadata": {
  "kernelspec": {
   "display_name": "env-teaching",
   "language": "python",
   "name": "python3"
  },
  "language_info": {
   "codemirror_mode": {
    "name": "ipython",
    "version": 3
   },
   "file_extension": ".py",
   "mimetype": "text/x-python",
   "name": "python",
   "nbconvert_exporter": "python",
   "pygments_lexer": "ipython3",
   "version": "3.11.7"
  }
 },
 "nbformat": 4,
 "nbformat_minor": 5
}
