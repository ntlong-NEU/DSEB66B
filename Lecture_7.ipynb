{
 "cells": [
  {
   "cell_type": "markdown",
   "id": "abe8d677",
   "metadata": {},
   "source": [
    "### Lecture 7: Input() and While loops"
   ]
  },
  {
   "cell_type": "code",
   "execution_count": 2,
   "id": "ae150b0c",
   "metadata": {},
   "outputs": [
    {
     "data": {
      "text/plain": [
       "False"
      ]
     },
     "execution_count": 2,
     "metadata": {},
     "output_type": "execute_result"
    }
   ],
   "source": [
    "'q2'.isdigit()"
   ]
  },
  {
   "cell_type": "code",
   "execution_count": 6,
   "id": "4710e3b8",
   "metadata": {},
   "outputs": [
    {
     "data": {
      "text/plain": [
       "False"
      ]
     },
     "execution_count": 6,
     "metadata": {},
     "output_type": "execute_result"
    }
   ],
   "source": [
    "'10s'.isdecimal()"
   ]
  },
  {
   "cell_type": "code",
   "execution_count": 8,
   "id": "4d47f54d",
   "metadata": {},
   "outputs": [
    {
     "name": "stdout",
     "output_type": "stream",
     "text": [
      "4\n",
      "3\n",
      "2\n"
     ]
    }
   ],
   "source": [
    "#similar IF\n",
    "a = 4\n",
    "while a>1:\n",
    "    print(a)\n",
    "    a -= 1  "
   ]
  },
  {
   "cell_type": "markdown",
   "id": "0c18e74e",
   "metadata": {},
   "source": [
    "**7-4. Pizza Toppings:** Write a loop that prompts the user to enter a series of\n",
    "pizza toppings until they enter a 'quit' value. As they enter each topping,\n",
    "print a message saying you’ll add that topping to their pizza.\n"
   ]
  },
  {
   "cell_type": "code",
   "execution_count": 12,
   "id": "6c8f7731",
   "metadata": {},
   "outputs": [
    {
     "name": "stdout",
     "output_type": "stream",
     "text": [
      "['cheese', 'mushroom']\n"
     ]
    }
   ],
   "source": [
    "prompt = \"Add your topping. Enter 'quit' to exit\"\n",
    "toppings = []\n",
    "\n",
    "while True:\n",
    "    topping = input(prompt)\n",
    "    if topping == 'quit':\n",
    "        break\n",
    "    toppings.append(topping)\n",
    "print(toppings)\n"
   ]
  },
  {
   "cell_type": "markdown",
   "id": "07cc455d",
   "metadata": {},
   "source": [
    "**7-5. Movie Tickets:** A movie theater charges different ticket prices depending on\n",
    "a person’s age. If a person is under the age of 3, the ticket is free; if they are\n",
    "between 3 and 12, the ticket is $10; and if they are over age 12, the ticket is\n",
    "$15. Write a loop in which you ask users their age, and then tell them the cost\n",
    "of their movie ticket.\n"
   ]
  },
  {
   "cell_type": "code",
   "execution_count": null,
   "id": "1594b286",
   "metadata": {},
   "outputs": [
    {
     "name": "stdout",
     "output_type": "stream",
     "text": [
      "Your ticket cost is: $ 15\n"
     ]
    }
   ],
   "source": [
    "prompt = \"Enter your age: \"\n",
    "prompt += \"Your age must be between 1 and 100.\"\n",
    "active = True\n",
    "while active:\n",
    "    age = input(prompt)\n",
    "    if age.isnumeric() & (int(age)>0) & (int(age)<100):\n",
    "        age = int(age) \n",
    "        active = False\n",
    "if age<3:\n",
    "    ticket = 0\n",
    "elif age<12:\n",
    "    ticket = 10\n",
    "else:\n",
    "    ticket = 15\n",
    "print(\"Your ticket cost is: $\", ticket)\n",
    "    \n"
   ]
  },
  {
   "cell_type": "markdown",
   "id": "010ac905",
   "metadata": {},
   "source": [
    "\n",
    "**7-6. Three Exits:** Write different versions of either Exercise 7-4 or Exercise 7-5\n",
    "that do each of the following at least once:\n",
    "+\t Use a conditional test in the while statement to stop the loop.\n",
    "\n",
    "+\t Use an active variable to control how long the loop runs.\n",
    "\n",
    "+\t Use a break statement to exit the loop when the user enters a 'quit' value.\n",
    "\n",
    "**7-7. Infinity:** Write a loop that never ends, and run it. (To end the loop, press\n",
    "ctrl-C or close the window displaying the output.)"
   ]
  },
  {
   "cell_type": "code",
   "execution_count": 17,
   "id": "78ec08d1",
   "metadata": {},
   "outputs": [
    {
     "name": "stdout",
     "output_type": "stream",
     "text": [
      "Your ticket cost is: $ 15\n"
     ]
    }
   ],
   "source": [
    "age = ''\n",
    "while not age.isnumeric():\n",
    "    age = input(\"Enter age: \")\n",
    "\n",
    "age = int(age)\n",
    "if age<3:\n",
    "    ticket = 0\n",
    "elif age<12:\n",
    "    ticket = 10\n",
    "else:\n",
    "    ticket = 15\n",
    "print(\"Your ticket cost is: $\", ticket)\n",
    "\n",
    "    \n",
    "    \n"
   ]
  },
  {
   "cell_type": "code",
   "execution_count": 18,
   "id": "3375793f",
   "metadata": {},
   "outputs": [
    {
     "name": "stdout",
     "output_type": "stream",
     "text": [
      "Your ticket cost is: $ 15\n"
     ]
    }
   ],
   "source": [
    "active = True\n",
    "while active:\n",
    "    age = input(\"Enter age: \")\n",
    "    if age.isnumeric():\n",
    "        active = False\n",
    "\n",
    "age = int(age)\n",
    "if age<3:\n",
    "    ticket = 0\n",
    "elif age<12:\n",
    "    ticket = 10\n",
    "else:\n",
    "    ticket = 15\n",
    "print(\"Your ticket cost is: $\", ticket)\n",
    "\n"
   ]
  },
  {
   "cell_type": "code",
   "execution_count": 19,
   "id": "706d50b9",
   "metadata": {},
   "outputs": [
    {
     "name": "stdout",
     "output_type": "stream",
     "text": [
      "Your ticket cost is: $ 15\n"
     ]
    }
   ],
   "source": [
    "\n",
    "while True:\n",
    "    age = input(\"Enter age: \")\n",
    "    if age.isnumeric():\n",
    "        break\n",
    "\n",
    "age = int(age)\n",
    "if age<3:\n",
    "    ticket = 0\n",
    "elif age<12:\n",
    "    ticket = 10\n",
    "else:\n",
    "    ticket = 15\n",
    "print(\"Your ticket cost is: $\", ticket)\n",
    "\n"
   ]
  }
 ],
 "metadata": {
  "kernelspec": {
   "display_name": "env-teaching",
   "language": "python",
   "name": "python3"
  },
  "language_info": {
   "codemirror_mode": {
    "name": "ipython",
    "version": 3
   },
   "file_extension": ".py",
   "mimetype": "text/x-python",
   "name": "python",
   "nbconvert_exporter": "python",
   "pygments_lexer": "ipython3",
   "version": "3.11.7"
  }
 },
 "nbformat": 4,
 "nbformat_minor": 5
}
