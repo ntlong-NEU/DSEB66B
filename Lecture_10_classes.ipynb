{
 "cells": [
  {
   "cell_type": "markdown",
   "id": "e1c6d634",
   "metadata": {},
   "source": [
    "## Lecture 10: Classes - OOP"
   ]
  },
  {
   "cell_type": "code",
   "execution_count": 32,
   "id": "f379b376",
   "metadata": {},
   "outputs": [],
   "source": [
    "class Dog:\n",
    "    '''docstring of class'''\n",
    "    def __init__(self,name,age, weight):\n",
    "        self.name = name\n",
    "        self.agee = age\n",
    "        self.w = weight\n",
    "    def sit(self):\n",
    "        print('The dog is sitting')\n",
    "    def run_over(self):\n",
    "        print(\"the dog is running\")\n",
    "    def get_info(self):\n",
    "        info = {}\n",
    "        info['name'] = self.name\n",
    "        info['age'] = self.agee\n",
    "        info['weight'] = self.w\n",
    "        return info"
   ]
  },
  {
   "cell_type": "code",
   "execution_count": 30,
   "id": "e942ffb2",
   "metadata": {},
   "outputs": [],
   "source": [
    "dog1 = Dog('Xoai',2,3)\n",
    "dog2 = Dog(\"Cun\",1,2)"
   ]
  },
  {
   "cell_type": "code",
   "execution_count": 31,
   "id": "c3c2384d",
   "metadata": {},
   "outputs": [
    {
     "data": {
      "text/plain": [
       "{'name': 'Xoai', 'age': 2, 'weigh': 3}"
      ]
     },
     "execution_count": 31,
     "metadata": {},
     "output_type": "execute_result"
    }
   ],
   "source": [
    "dog1.get_info()"
   ]
  },
  {
   "cell_type": "code",
   "execution_count": 24,
   "id": "0bc39fc0",
   "metadata": {},
   "outputs": [
    {
     "name": "stdout",
     "output_type": "stream",
     "text": [
      "the dog is running\n"
     ]
    }
   ],
   "source": [
    "dog1.run_over()"
   ]
  },
  {
   "cell_type": "code",
   "execution_count": 23,
   "id": "594c6f00",
   "metadata": {},
   "outputs": [
    {
     "name": "stdout",
     "output_type": "stream",
     "text": [
      "The dog is sitting\n"
     ]
    }
   ],
   "source": [
    "dog1.sit()"
   ]
  },
  {
   "cell_type": "code",
   "execution_count": 14,
   "id": "c56403d0",
   "metadata": {},
   "outputs": [
    {
     "data": {
      "text/plain": [
       "'Xoai'"
      ]
     },
     "execution_count": 14,
     "metadata": {},
     "output_type": "execute_result"
    }
   ],
   "source": [
    "dog1.name"
   ]
  },
  {
   "cell_type": "code",
   "execution_count": 15,
   "id": "166486bb",
   "metadata": {},
   "outputs": [
    {
     "data": {
      "text/plain": [
       "2"
      ]
     },
     "execution_count": 15,
     "metadata": {},
     "output_type": "execute_result"
    }
   ],
   "source": [
    "dog1.agee"
   ]
  },
  {
   "cell_type": "code",
   "execution_count": 16,
   "id": "4e43574e",
   "metadata": {},
   "outputs": [
    {
     "data": {
      "text/plain": [
       "3"
      ]
     },
     "execution_count": 16,
     "metadata": {},
     "output_type": "execute_result"
    }
   ],
   "source": [
    "dog1.w"
   ]
  },
  {
   "cell_type": "code",
   "execution_count": 17,
   "id": "750be317",
   "metadata": {},
   "outputs": [
    {
     "data": {
      "text/plain": [
       "'Cun'"
      ]
     },
     "execution_count": 17,
     "metadata": {},
     "output_type": "execute_result"
    }
   ],
   "source": [
    "dog2.name"
   ]
  },
  {
   "cell_type": "code",
   "execution_count": 18,
   "id": "73a13b8b",
   "metadata": {},
   "outputs": [
    {
     "data": {
      "text/plain": [
       "__main__.Dog"
      ]
     },
     "execution_count": 18,
     "metadata": {},
     "output_type": "execute_result"
    }
   ],
   "source": [
    "type(dog1)"
   ]
  },
  {
   "cell_type": "code",
   "execution_count": 19,
   "id": "c0e1a7ff",
   "metadata": {},
   "outputs": [
    {
     "data": {
      "text/plain": [
       "['__class__',\n",
       " '__delattr__',\n",
       " '__dict__',\n",
       " '__dir__',\n",
       " '__doc__',\n",
       " '__eq__',\n",
       " '__format__',\n",
       " '__ge__',\n",
       " '__getattribute__',\n",
       " '__getstate__',\n",
       " '__gt__',\n",
       " '__hash__',\n",
       " '__init__',\n",
       " '__init_subclass__',\n",
       " '__le__',\n",
       " '__lt__',\n",
       " '__module__',\n",
       " '__ne__',\n",
       " '__new__',\n",
       " '__reduce__',\n",
       " '__reduce_ex__',\n",
       " '__repr__',\n",
       " '__setattr__',\n",
       " '__sizeof__',\n",
       " '__str__',\n",
       " '__subclasshook__',\n",
       " '__weakref__',\n",
       " 'agee',\n",
       " 'name',\n",
       " 'run_over',\n",
       " 'sit',\n",
       " 'w']"
      ]
     },
     "execution_count": 19,
     "metadata": {},
     "output_type": "execute_result"
    }
   ],
   "source": [
    "dir(dog1)"
   ]
  },
  {
   "cell_type": "code",
   "execution_count": 34,
   "id": "3496a13c",
   "metadata": {},
   "outputs": [
    {
     "data": {
      "text/plain": [
       "'Xoài'"
      ]
     },
     "execution_count": 34,
     "metadata": {},
     "output_type": "execute_result"
    }
   ],
   "source": [
    "dog1.name = 'Xoài'\n",
    "dog1.name"
   ]
  },
  {
   "cell_type": "code",
   "execution_count": 35,
   "id": "cf29dde0",
   "metadata": {},
   "outputs": [
    {
     "data": {
      "text/plain": [
       "{'name': 'Xoài', 'age': 2, 'weigh': 3}"
      ]
     },
     "execution_count": 35,
     "metadata": {},
     "output_type": "execute_result"
    }
   ],
   "source": [
    "dog1.get_info()"
   ]
  },
  {
   "cell_type": "markdown",
   "id": "24ff50be",
   "metadata": {},
   "source": [
    "9-1. Restaurant: Make a class called Restaurant. The __init__() method for\n",
    "Restaurant should store two attributes: a restaurant_name and a cuisine_type.\n",
    "Make a method called describe_restaurant() that prints these two pieces of\n",
    "information, and a method called open_restaurant() that prints a message indicating that the restaurant is open.\n",
    "Make an instance called restaurant from your class. Print the two attributes individually, and then call both methods.\n"
   ]
  },
  {
   "cell_type": "code",
   "execution_count": 36,
   "id": "8737c9a1",
   "metadata": {},
   "outputs": [],
   "source": [
    "class Restaurant:\n",
    "    def __init__(self,name,cuisine):\n",
    "        self.restaurant_name= name\n",
    "        self.cuisine=cuisine\n",
    "    def describe_restaurant(self):\n",
    "        return {'name':self.restaurant_name,'cuisine':self.cuisine}\n",
    "    def open_restaurant(self):\n",
    "        print(\"The restaurant is opening\")\n"
   ]
  },
  {
   "cell_type": "code",
   "execution_count": 37,
   "id": "d579b71e",
   "metadata": {},
   "outputs": [
    {
     "name": "stdout",
     "output_type": "stream",
     "text": [
      "gogi\n",
      "beef\n"
     ]
    }
   ],
   "source": [
    "rest1 = Restaurant('gogi','beef')\n",
    "print(rest1.restaurant_name)\n",
    "print(rest1.cuisine)"
   ]
  },
  {
   "cell_type": "code",
   "execution_count": 39,
   "id": "3cfe25ff",
   "metadata": {},
   "outputs": [
    {
     "name": "stdout",
     "output_type": "stream",
     "text": [
      "The restaurant is opening\n"
     ]
    }
   ],
   "source": [
    "rest1.describe_restaurant()\n",
    "rest1.open_restaurant()"
   ]
  },
  {
   "cell_type": "markdown",
   "id": "56fc8f13",
   "metadata": {},
   "source": [
    "\n",
    "9-2. Three Restaurants: Start with your class from Exercise 9-1. Create three\n",
    "different instances from the class, and call describe_restaurant() for each\n",
    "instance.\n"
   ]
  },
  {
   "cell_type": "code",
   "execution_count": 40,
   "id": "c55bc6d9",
   "metadata": {},
   "outputs": [
    {
     "name": "stdout",
     "output_type": "stream",
     "text": [
      "{'name': 'Sushi', 'cuisine': 'Japanese'}\n",
      "{'name': 'Pizza', 'cuisine': 'Italian'}\n",
      "{'name': 'Pho', 'cuisine': 'Vietnamese'}\n"
     ]
    }
   ],
   "source": [
    "restaurant1 = Restaurant(\"Sushi\",\"Japanese\")\n",
    "restaurant2 = Restaurant(\"Pizza\", \"Italian\")\n",
    "restaurant3 = Restaurant(\"Pho\", \"Vietnamese\")\n",
    "\n",
    "print(restaurant1.describe_restaurant())\n",
    "print(restaurant2.describe_restaurant())\n",
    "print(restaurant3.describe_restaurant())"
   ]
  },
  {
   "cell_type": "markdown",
   "id": "e214ac9e",
   "metadata": {},
   "source": [
    "\n",
    "9-3. Users: Make a class called User. Create two attributes called first_name\n",
    "and last_name, and then create several other attributes that are typically stored\n",
    "in a user profile. Make a method called describe_user() that prints a summary\n",
    "of the user’s information. Make another method called greet_user() that prints\n",
    "a personalized greeting to the user.\n",
    "Create several instances representing different users, and call both methods\n",
    "for each user"
   ]
  },
  {
   "cell_type": "code",
   "execution_count": 43,
   "id": "494cfb18",
   "metadata": {},
   "outputs": [],
   "source": [
    "class User:\n",
    "    def __init__(self, first_name, last_name, age, gender, location):\n",
    "        self.first_name=first_name\n",
    "        self.last_name=last_name\n",
    "        self.age=age\n",
    "        self.gender=gender\n",
    "        self.location=location\n",
    "    def describe_user(self):\n",
    "        print(f\"{self.first_name}\")\n",
    "        print(f\"{self.last_name}\")\n",
    "        print(f\"{self.age}\")\n",
    "        print(f\"{self.gender}\")\n",
    "        print(f\"{self.location}\")\n",
    "    def greet_user(self):\n",
    "        print(f\"Welcome back, {self.first_name}, {self.last_name}\")\n",
    "    "
   ]
  },
  {
   "cell_type": "code",
   "execution_count": 44,
   "id": "d1b5f017",
   "metadata": {},
   "outputs": [
    {
     "name": "stdout",
     "output_type": "stream",
     "text": [
      "An\n",
      "Nguyen\n",
      "22\n",
      "Female\n",
      "Hanoi\n",
      "Welcome back, An, Nguyen\n",
      "Le\n",
      "Dinh\n",
      "23\n",
      "Male\n",
      "Da Nang\n",
      "Welcome back, Le, Dinh\n"
     ]
    }
   ],
   "source": [
    "user1 = User(\"An\", \"Nguyen\", 22, \"Female\", \"Hanoi\")\n",
    "user2 = User(\"Le\", \"Dinh\", 23, \"Male\",\"Da Nang\")\n",
    "\n",
    "user1.describe_user()\n",
    "user1.greet_user()\n",
    "user2.describe_user()\n",
    "user2.greet_user()"
   ]
  },
  {
   "cell_type": "code",
   "execution_count": 46,
   "id": "1195345b",
   "metadata": {},
   "outputs": [],
   "source": [
    "class Stack:\n",
    "    def __init__(self):\n",
    "        self.__stack = []\n",
    "    def push(self, item):\n",
    "        self.__stack.append(item)\n",
    "    def pop(self):\n",
    "        self.__stack.pop()\n",
    "    def peek(self):\n",
    "        return self.__stack[-1]\n",
    "    def is_empty(self):\n",
    "        return not bool(self.__stack)\n",
    "    def size(self):\n",
    "        return len(self.__stack)\n",
    "    def get_stack(self):\n",
    "        return self.__stack\n"
   ]
  },
  {
   "cell_type": "code",
   "execution_count": 47,
   "id": "3900add8",
   "metadata": {},
   "outputs": [
    {
     "data": {
      "text/plain": [
       "['item0', 'item1', 'item2', 'item3', 'item4']"
      ]
     },
     "execution_count": 47,
     "metadata": {},
     "output_type": "execute_result"
    }
   ],
   "source": [
    "st1 = Stack()\n",
    "st1.push('item0')\n",
    "st1.push('item1')\n",
    "st1.push('item2')\n",
    "st1.push('item3')\n",
    "st1.push('item4')\n",
    "st1.get_stack()\n"
   ]
  },
  {
   "cell_type": "code",
   "execution_count": 48,
   "id": "93d33f29",
   "metadata": {},
   "outputs": [
    {
     "data": {
      "text/plain": [
       "'item4'"
      ]
     },
     "execution_count": 48,
     "metadata": {},
     "output_type": "execute_result"
    }
   ],
   "source": [
    "st1.peek()"
   ]
  },
  {
   "cell_type": "code",
   "execution_count": 49,
   "id": "5ff2b58d",
   "metadata": {},
   "outputs": [
    {
     "data": {
      "text/plain": [
       "['item0', 'item1', 'item2', 'item3']"
      ]
     },
     "execution_count": 49,
     "metadata": {},
     "output_type": "execute_result"
    }
   ],
   "source": [
    "st1.pop()\n",
    "st1.get_stack()"
   ]
  },
  {
   "cell_type": "code",
   "execution_count": null,
   "id": "c0f2ad99",
   "metadata": {},
   "outputs": [],
   "source": []
  }
 ],
 "metadata": {
  "kernelspec": {
   "display_name": "env-teaching",
   "language": "python",
   "name": "python3"
  },
  "language_info": {
   "codemirror_mode": {
    "name": "ipython",
    "version": 3
   },
   "file_extension": ".py",
   "mimetype": "text/x-python",
   "name": "python",
   "nbconvert_exporter": "python",
   "pygments_lexer": "ipython3",
   "version": "3.11.7"
  }
 },
 "nbformat": 4,
 "nbformat_minor": 5
}
